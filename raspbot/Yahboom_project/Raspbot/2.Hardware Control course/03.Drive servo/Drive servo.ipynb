{
 "cells": [
  {
   "cell_type": "markdown",
   "metadata": {},
   "source": [
    "/**\n",
    "* @par Copyright (C): 2010-2020, Shenzhen Yahboom Tech\n",
    "* @file:         Drive servo\n",
    "* @author:       xiaozhen\n",
    "* @version：     V1.0\n",
    "* @date:         2020.10.10\n",
    "* @brief:        Drive servo\n",
    "* @details:\n",
    "* @par History:  Description below\n",
    "*/"
   ]
  },
  {
   "cell_type": "markdown",
   "metadata": {},
   "source": [
    "#### Tip:\n",
    "#### About the wiring of the servos, there are a total of S1~S4 servo ports on the expansion board. The brown wire of the servo needs to be connected to GND (that is, the pin marked with \"-\" on the expansion board)."
   ]
  },
  {
   "cell_type": "code",
   "execution_count": null,
   "metadata": {},
   "outputs": [],
   "source": [
    "import YB_Pcb_Car  #Import Yahboom car library\n",
    "import time\n",
    "\n",
    "car = YB_Pcb_Car.YB_Pcb_Car()"
   ]
  },
  {
   "cell_type": "markdown",
   "metadata": {},
   "source": [
    "##### Control the two servos to turn to the middle position"
   ]
  },
  {
   "cell_type": "code",
   "execution_count": null,
   "metadata": {},
   "outputs": [],
   "source": [
    "car.Ctrl_Servo(1, 90) #The servo connected to the S1 interface on the expansion board, rotate to 90°\n",
    "time.sleep(0.5)\n",
    "    \n",
    "car.Ctrl_Servo(2, 90) #The servo connected to the S2 interface on the expansion board, rotate to 90°\n",
    "time.sleep(0.5)"
   ]
  },
  {
   "cell_type": "markdown",
   "metadata": {},
   "source": [
    "##### Control the two servos to turn to 0°"
   ]
  },
  {
   "cell_type": "code",
   "execution_count": null,
   "metadata": {},
   "outputs": [],
   "source": [
    "car.Ctrl_Servo(1, 0) #The servo connected to the S1 interface on the expansion board, rotate to 0°\n",
    "time.sleep(0.5)\n",
    "\n",
    "car.Ctrl_Servo(2, 0) #The servo connected to the S2 interface on the expansion board, rotate to 0°\n",
    "time.sleep(0.5)"
   ]
  },
  {
   "cell_type": "markdown",
   "metadata": {},
   "source": [
    "##### Control the two servo ratate to 180°"
   ]
  },
  {
   "cell_type": "code",
   "execution_count": null,
   "metadata": {},
   "outputs": [],
   "source": [
    "car.Ctrl_Servo(1, 180) #The servo connected to the S1 interface on the expansion board, rotate to 180°\n",
    "time.sleep(0.5)\n",
    "\n",
    "car.Ctrl_Servo(2, 180) #The servo connected to the S2 interface on the expansion board, rotate to 180°\n",
    "time.sleep(0.5)"
   ]
  },
  {
   "cell_type": "code",
   "execution_count": null,
   "metadata": {},
   "outputs": [],
   "source": [
    "del car #The object needs to be released after use, otherwise, when the next program needs to use this object module, it will be occupied and will become unusable"
   ]
  },
  {
   "cell_type": "code",
   "execution_count": null,
   "metadata": {},
   "outputs": [],
   "source": []
  }
 ],
 "metadata": {
  "kernelspec": {
   "display_name": "Python 3",
   "language": "python",
   "name": "python3"
  },
  "language_info": {
   "codemirror_mode": {
    "name": "ipython",
    "version": 3
   },
   "file_extension": ".py",
   "mimetype": "text/x-python",
   "name": "python",
   "nbconvert_exporter": "python",
   "pygments_lexer": "ipython3",
   "version": "3.7.3"
  }
 },
 "nbformat": 4,
 "nbformat_minor": 4
}
