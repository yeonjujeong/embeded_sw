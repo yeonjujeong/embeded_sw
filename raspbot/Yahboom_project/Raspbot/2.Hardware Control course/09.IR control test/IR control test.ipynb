{
 "cells": [
  {
   "cell_type": "markdown",
   "metadata": {},
   "source": [
    "/**\n",
    "* @par Copyright (C): 2010-2020, Shenzhen Yahboom Tech\n",
    "* @file:         IR control test.ipynb\n",
    "* @author:       xiaozhen\n",
    "* @version:      V1.0\n",
    "* @date:         2020.09.24\n",
    "* @brief:        IR control test\n",
    "* @details:\n",
    "* @par History:  Description below\n",
    "*/"
   ]
  },
  {
   "cell_type": "markdown",
   "metadata": {},
   "source": [
    "### Import library"
   ]
  },
  {
   "cell_type": "code",
   "execution_count": null,
   "metadata": {},
   "outputs": [],
   "source": [
    "#!/usr/bin/python3\n",
    "# -*- coding:utf-8 -*-\n",
    "import RPi.GPIO as GPIO\n",
    "import time"
   ]
  },
  {
   "cell_type": "markdown",
   "metadata": {},
   "source": [
    "### Define the pins.\n",
    "### Set the coding method of GPIO and initial settings."
   ]
  },
  {
   "cell_type": "code",
   "execution_count": null,
   "metadata": {},
   "outputs": [],
   "source": [
    "PIN = 36;   #Define IR pin\n",
    "\n",
    "#Set the GPIO port to BIARD encoding mode\n",
    "GPIO.setmode(GPIO.BOARD)\n",
    "\n",
    "#Ignore the warning message\n",
    "GPIO.setwarnings(False)\n",
    "ir_repeat_cnt = 0\n",
    "\n",
    "#The pin of the red external device needs to be set to input pull-up\n",
    "GPIO.setup(PIN,GPIO.IN,GPIO.PUD_UP)\n",
    "print(\"IR test start...\")  #Initially print \"IR test start\"."
   ]
  },
  {
   "cell_type": "markdown",
   "metadata": {},
   "source": [
    "### Main loop function"
   ]
  },
  {
   "cell_type": "code",
   "execution_count": null,
   "metadata": {},
   "outputs": [],
   "source": [
    "try:\n",
    "    print(\"start\")\n",
    "    while True:\n",
    "        if GPIO.input(PIN) == 0:   #The signal emitted by the infrared remote control is detected\n",
    "            ir_repeat_cnt = 0;\n",
    "            count = 0\n",
    "            while GPIO.input(PIN) == 0 and count < 200:   #Judge the boot code of 9ms high level pulse\n",
    "                count += 1\n",
    "                time.sleep(0.00006)\n",
    "\n",
    "            count = 0\n",
    "            while GPIO.input(PIN) == 1 and count < 80:   #Judge the boot code of 4.5ms low-level pulse\n",
    "                count += 1\n",
    "                time.sleep(0.00006)\n",
    "\n",
    "            idx = 0\n",
    "            cnt = 0\n",
    "            data = [0,0,0,0]   #Define data used to store the address code, address inversion, signal code, and signal inversion of infrared signals\n",
    "            for i in range(0,32):   #data[0],data[1],data[2],data[3] In total, 8bit*4=32\n",
    "                count = 0\n",
    "                while GPIO.input(PIN) == 0 and count < 10:   #Start decoding, used to filter the first 560us pulse of logic 0 and logic 1\n",
    "                    count += 1\n",
    "                    time.sleep(0.00006)\n",
    "\n",
    "                count = 0\n",
    "                while GPIO.input(PIN) == 1 and count < 40:   #After the 560us high-level pulse, check the remaining low-level pulse time length to determine whether it is logic 0 or logic 1\n",
    "                    '''\n",
    "                    Description:\n",
    "                    According to the infrared NCE agreement:\n",
    "                    The period of logic 1 is 2.25ms, and the pulse time is 0.56ms.Total period-pulse time = the value we set, the set value is slightly larger than the actual value.\n",
    "\n",
    "                    The logic 0 period is 1.12 and the time is 0.56ms. Total period-pulse time = the value we set, the set value is slightly larger than the actual value.\n",
    "                    \n",
    "                    '''\n",
    "                    count += 1\n",
    "                    time.sleep(0.00006)\n",
    "\n",
    "                if count > 9:    \n",
    "                    #This code is used to determine whether the currently received signal is logic 1 or logic 0.\n",
    "                    #If count>9, it proves that the duration of the current low-level signal is greater than 560 (9*60=540us), which is logic 1.\n",
    "                    #For example: when count=10, the low-level signal is 10*60=600us (greater than 560us)，it is logic 1.\n",
    "                    \n",
    "                    data[idx] |= 1<<cnt   \n",
    "                if cnt == 7:   #When cnt=7, one byte is full, and the next byte is ready to be stored.\n",
    "                    cnt = 0\n",
    "                    idx += 1\n",
    "                else:\n",
    "                    cnt += 1  \n",
    "            if data[0]+data[1] == 0xFF and data[2]+data[3] == 0xFF:  #It is judged that the correct infrared remote control code value is received.\n",
    "                print(\"Get the key: 0x%02x\" %data[2])   #Print the command code obtained\n",
    "        else:\n",
    "            if ir_repeat_cnt > 110: #Judge whether the infrared remote control button is released, because the repetition cycle time is 110ms, so here it should be set to 110*0.001.\n",
    "                ir_repeat_cnt = 0\n",
    "            else:\n",
    "                time.sleep(0.001)\n",
    "                ir_repeat_cnt += 1\n",
    "except KeyboardInterrupt:\n",
    "    pass\n",
    "print(\"Ending\")\n",
    "GPIO.cleanup()"
   ]
  },
  {
   "cell_type": "markdown",
   "metadata": {},
   "source": [
    "### When you need to end the entire program, please click the square button (Interrupt the kernel) in the upper menu bar.\n",
    "### Then you can see the Ending prompt, which means the program has been successfully ended"
   ]
  },
  {
   "cell_type": "code",
   "execution_count": null,
   "metadata": {},
   "outputs": [],
   "source": []
  }
 ],
 "metadata": {
  "kernelspec": {
   "display_name": "Python 3",
   "language": "python",
   "name": "python3"
  },
  "language_info": {
   "codemirror_mode": {
    "name": "ipython",
    "version": 3
   },
   "file_extension": ".py",
   "mimetype": "text/x-python",
   "name": "python",
   "nbconvert_exporter": "python",
   "pygments_lexer": "ipython3",
   "version": "3.7.3"
  }
 },
 "nbformat": 4,
 "nbformat_minor": 4
}
