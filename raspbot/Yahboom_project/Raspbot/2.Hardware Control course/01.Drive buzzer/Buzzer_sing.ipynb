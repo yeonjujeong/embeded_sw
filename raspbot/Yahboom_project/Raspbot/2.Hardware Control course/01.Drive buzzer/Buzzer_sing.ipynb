{
 "cells": [
  {
   "cell_type": "markdown",
   "metadata": {},
   "source": [
    "/**\n",
    "* @par Copyright (C): 2010-2020, Shenzhen Yahboom Tech\n",
    "* @file        Buzzer_sing.ipynb\n",
    "* @author       xiaozhen\n",
    "* @version      V1.0\n",
    "* @date         2020.09.24\n",
    "* @brief        List the tones and beats according to the numbered musical notation to control the buzzer to play music\n",
    "* @details\n",
    "* @par History  Description below\n",
    "*/"
   ]
  },
  {
   "cell_type": "code",
   "execution_count": null,
   "metadata": {},
   "outputs": [],
   "source": [
    "#!/usr/bin/env python3\n",
    "import RPi.GPIO as GPIO\n",
    "import time\n",
    "\n",
    "Buzzer = 32 #Define the pin of the buzzer\n",
    "\n",
    "GPIO.setwarnings(False) #Ignore warning"
   ]
  },
  {
   "cell_type": "code",
   "execution_count": null,
   "metadata": {},
   "outputs": [],
   "source": [
    "BL1 = 248\n",
    "BL2 = 278\n",
    "BL3 = 294\n",
    "BL4 = 330\n",
    "BL5 = 371\n",
    "BL6 = 416\n",
    "BL7 = 467\n",
    "\n",
    "B1 = 495\n",
    "B2 = 556\n",
    "B3 = 624\n",
    "B4 = 661\n",
    "B5 = 742\n",
    "B6 = 833\n",
    "B7 = 935\n",
    "\n",
    "BH1 = 990\n",
    "BH2 = 1112\n",
    "BH3 = 1178\n",
    "BH4 = 1322\n",
    "BH5 = 1484\n",
    "BH6 = 1665\n",
    "BH7 = 1869\n",
    "\n",
    "NTC1 = 262\n",
    "NTC2 = 294\n",
    "NTC3 = 330\n",
    "NTC4 = 350\n",
    "NTC5 = 393\n",
    "NTC6 = 441\n",
    "NTC7 = 495\n",
    "\n",
    "NTCL1 = 131\n",
    "NTCL2 = 147\n",
    "NTCL3 = 165\n",
    "NTCL4 = 175\n",
    "NTCL5 = 196\n",
    "NTCL6 = 221\n",
    "NTCL7 = 248\n",
    "\n",
    "NTCH1 = 525\n",
    "NTCH2 = 589\n",
    "NTCH3 = 661\n",
    "NTCH4 = 700\n",
    "NTCH5 = 786\n",
    "NTCH6 = 882\n",
    "NTCH7 = 990\n",
    "\n",
    "NTD0 = -1\n",
    "NTD1 = 294\n",
    "NTD2 = 330\n",
    "NTD3 = 350\n",
    "NTD4 = 393\n",
    "NTD5 = 441\n",
    "NTD6 = 495\n",
    "NTD7 = 556\n",
    "\n",
    "NTDL1 = 147\n",
    "NTDL2 = 165\n",
    "NTDL3 = 175\n",
    "NTDL4 = 196\n",
    "NTDL5 = 221\n",
    "NTDL6 = 248\n",
    "NTDL7 = 278\n",
    "\n",
    "NTDH1 = 589\n",
    "NTDH2 = 661\n",
    "NTDH3 = 700\n",
    "NTDH4 = 786\n",
    "NTDH5 = 882\n",
    "NTDH6 = 990\n",
    "NTDH7 = 1112\n",
    "\n",
    "NTE1 = 330\n",
    "NTE2 = 350\n",
    "NTE3 = 393\n",
    "NTE4 = 441\n",
    "NTE5 = 495\n",
    "NTE6 = 556\n",
    "NTE7 = 624\n",
    "\n",
    "NTEL1 = 165\n",
    "NTEL2 = 175\n",
    "NTEL3 = 196\n",
    "NTEL4 = 221\n",
    "NTEL5 = 248\n",
    "NTEL6 = 278\n",
    "NTEL7 = 312\n",
    "\n",
    "NTEH1 = 661\n",
    "NTEH2 = 700\n",
    "NTEH3 = 786\n",
    "NTEH4 = 882\n",
    "NTEH5 = 990\n",
    "NTEH6 = 1112\n",
    "NTEH7 = 1248"
   ]
  },
  {
   "cell_type": "markdown",
   "metadata": {},
   "source": [
    "### According to the frequency list above, define the note and beat list of the song according to the numbered musical notation of the song."
   ]
  },
  {
   "cell_type": "code",
   "execution_count": null,
   "metadata": {},
   "outputs": [],
   "source": [
    "tune =  [\n",
    "NTC3, NTC5, NTC5, NTC3, NTC6, NTC6, NTC7, NTC6, NTC6, NTC6, NTC5, NTCH1, NTCH1, NTCH1, NTCH1, NTC6,\n",
    " NTCH1, NTC6, NTC5, \n",
    "\n",
    "NTC3, NTC5, NTC5, NTC5, NTC3, NTC6, NTC6, NTC7, NTC6, NTC6, NTC6, NTC5, NTCH1, NTCH1, NTCH1,\n",
    " NTCH1, NTC6, NTC6, NTCH1,NTCH2, \n",
    "\n",
    "NTCH5, NTCH5, NTCH5, NTCH5,NTCH5, NTCH3, NTCH2, NTCH1, NTCH1, NTC6, NTCH1, NTC6, NTCH1, NTCH2,\n",
    "  NTCH2, NTCH2, NTCH2,NTCH2, NTCH1, NTCH3, NTCH2, NTCH2, \n",
    "\n",
    "NTCH3, NTCH3, NTCH3, NTCH3, NTCH2, NTCH2, NTCH1, NTCH1, NTCH1, NTCH2, NTCH1, NTC6, NTC5, NTC5, \n",
    " NTC5, NTC5, NTC6, NTC5,NTCH2, NTCH3,NTCH1,\n",
    "]"
   ]
  },
  {
   "cell_type": "code",
   "execution_count": null,
   "metadata": {},
   "outputs": [],
   "source": [
    "durt = [\n",
    "0.5, 0.5, 1.5, 0.5, 0.5, 0.5, 0.5, 1, 0.5, 0.5, 0.5, 1, 0.5, 0.5, 0.5, 0.5, 0.5, 0.5, 2,\n",
    "0.5, 0.5, 1, 0.5, 0.5, 0.5, 0.5, 0.5, 1, 0.5, 0.5, 0.5, 1, 0.5, 0.5, 0.5, 0.5, 0.5, 0.5, \n",
    "2,0.5, 1, 0.5, 0.5, 0.5, 0.5, 0.5, 0.5, 1, 1, 0.5, 0.5, 0.5, 1, 0.25,0.5, 0.5, 0.5, 0.5, \n",
    "1, 0.25, 2, 0.5, 1, 0.5, 0.5, 0.5, 1, 0.5, 1, 0.5, 0.5, 0.5, 0.5, 0.5, 0.5, 1, 0.5, 0.5, \n",
    "0.5, 0.5, 0.5, 2,\n",
    "]"
   ]
  },
  {
   "cell_type": "code",
   "execution_count": null,
   "metadata": {},
   "outputs": [],
   "source": [
    "def setup():\n",
    "        GPIO.setmode(GPIO.BOARD)      #Set the GPIO port to BIARD encoding mode    \n",
    "        GPIO.setup(Buzzer, GPIO.OUT)  #The pin of the buzzer is set to output mode\n",
    "        global Buzz                                            \n",
    "        Buzz = GPIO.PWM(Buzzer, 440)   \n",
    "        Buzz.start(50)                                "
   ]
  },
  {
   "cell_type": "code",
   "execution_count": null,
   "metadata": {},
   "outputs": [],
   "source": [
    "def loop():\n",
    "\twhile True:\n",
    "\t\tprint('\\n Playing song star...')\n",
    "\t\tfor i in range(1, len(tune)):\t\t\n",
    "\t\t\tBuzz.ChangeFrequency(tune[i])\t\n",
    "\t\t\ttime.sleep(durt[i] * 0.5)\t\t\n",
    "\t\t\t\n",
    "if __name__ == '__main__':\t\t\n",
    "    setup()\n",
    "    try:\n",
    "        while True:\n",
    "            loop()\n",
    "    except KeyboardInterrupt:  \t\n",
    "        GPIO.cleanup()\n",
    "        print(\"Ending\")"
   ]
  },
  {
   "cell_type": "code",
   "execution_count": null,
   "metadata": {},
   "outputs": [],
   "source": []
  },
  {
   "cell_type": "markdown",
   "metadata": {},
   "source": [
    "### When you need to end the entire program, please click the square button (Interrupt the kernel) in the upper menu bar.\n",
    "### Then you can see the Ending prompt, which means the program has been successfully ended"
   ]
  },
  {
   "cell_type": "code",
   "execution_count": null,
   "metadata": {},
   "outputs": [],
   "source": [
    "import RPi.GPIO as GPIO\n",
    "import time\n",
    "GPIO.setmode(GPIO.BOARD)\n",
    "GPIO.setwarnings(False)         \n",
    "GPIO.setup(32, GPIO.OUT)  #The pin of the buzzer is set to output mode                                       \n",
    "p = GPIO.PWM(32, 440)       "
   ]
  },
  {
   "cell_type": "code",
   "execution_count": null,
   "metadata": {},
   "outputs": [],
   "source": [
    "p.start(99)\n",
    "time.sleep(0.5)\n",
    "p.stop()\n",
    "time.sleep(0.5)\n",
    "p.start(99)\n",
    "time.sleep(0.5)\n",
    "p.stop() "
   ]
  },
  {
   "cell_type": "code",
   "execution_count": null,
   "metadata": {},
   "outputs": [],
   "source": []
  }
 ],
 "metadata": {
  "kernelspec": {
   "display_name": "Python 3",
   "language": "python",
   "name": "python3"
  },
  "language_info": {
   "codemirror_mode": {
    "name": "ipython",
    "version": 3
   },
   "file_extension": ".py",
   "mimetype": "text/x-python",
   "name": "python",
   "nbconvert_exporter": "python",
   "pygments_lexer": "ipython3",
   "version": "3.7.3"
  }
 },
 "nbformat": 4,
 "nbformat_minor": 4
}
