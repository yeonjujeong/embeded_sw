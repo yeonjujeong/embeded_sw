{
 "cells": [
  {
   "cell_type": "markdown",
   "metadata": {},
   "source": [
    "/**\n",
    "* @par Copyright (C): 2010-2020, Shenzhen Yahboom Tech\n",
    "* @file         Buzzer_test.ipynb\n",
    "* @author       xiaozhen\n",
    "* @version      V1.0\n",
    "* @date         2020.09.24\n",
    "* @brief        Test buzzer\n",
    "* @details\n",
    "* @par History  Description below\n",
    "*/"
   ]
  },
  {
   "cell_type": "code",
   "execution_count": null,
   "metadata": {},
   "outputs": [],
   "source": [
    "#!/usr/bin/env python\n",
    "# -*- coding: utf-8 -*-\n",
    "\n",
    "import time\n",
    "import RPi.GPIO as GPIO\n",
    "GPIO.setwarnings(False)\n",
    "GPIO.setmode(GPIO.BOARD)\n",
    "GPIO.setup(32, GPIO.OUT)\n",
    "\n",
    "p = GPIO.PWM(32, 440) \n",
    "p.start(50)\n",
    "try:\n",
    "    while 1:\n",
    "        for dc in range(0, 101, 5):\n",
    "            print ('start_1')\n",
    "            p.ChangeDutyCycle(dc)\n",
    "            time.sleep(0.1)\n",
    "        for dc in range(100, -1, -5):\n",
    "            p.ChangeDutyCycle(dc)\n",
    "            print ('start_2')\n",
    "            time.sleep(0.1)\n",
    "except KeyboardInterrupt:\n",
    "    pass\n",
    "p.stop()\n",
    "print(\"Ending\")\n",
    "GPIO.cleanup()"
   ]
  },
  {
   "cell_type": "markdown",
   "metadata": {},
   "source": [
    "### When you need to end the entire program, please click the square button (Interrupt the kernel) in the upper menu bar.\n",
    "### Then you can see the Ending prompt, which means the program has been successfully ended"
   ]
  },
  {
   "cell_type": "code",
   "execution_count": null,
   "metadata": {},
   "outputs": [],
   "source": []
  },
  {
   "cell_type": "code",
   "execution_count": null,
   "metadata": {},
   "outputs": [],
   "source": []
  }
 ],
 "metadata": {
  "kernelspec": {
   "display_name": "Python 3",
   "language": "python",
   "name": "python3"
  },
  "language_info": {
   "codemirror_mode": {
    "name": "ipython",
    "version": 3
   },
   "file_extension": ".py",
   "mimetype": "text/x-python",
   "name": "python",
   "nbconvert_exporter": "python",
   "pygments_lexer": "ipython3",
   "version": "3.7.3"
  }
 },
 "nbformat": 4,
 "nbformat_minor": 4
}
