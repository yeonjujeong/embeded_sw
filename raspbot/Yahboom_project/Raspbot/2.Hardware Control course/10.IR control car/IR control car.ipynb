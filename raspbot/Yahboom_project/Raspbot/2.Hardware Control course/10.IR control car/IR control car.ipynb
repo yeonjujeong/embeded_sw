{
 "cells": [
  {
   "cell_type": "markdown",
   "metadata": {},
   "source": [
    "/**\n",
    "* @par Copyright (C): 2010-2020, Shenzhen Yahboom Tech\n",
    "* @file:         IR control car.ipynb\n",
    "* @author:       xiaozhen\n",
    "* @version:      V1.0\n",
    "* @date:         2020.09.24\n",
    "* @brief:        IR control car\n",
    "* @details\n",
    "* @par History:  Description below\n",
    "*/"
   ]
  },
  {
   "cell_type": "markdown",
   "metadata": {},
   "source": [
    "### Import library"
   ]
  },
  {
   "cell_type": "code",
   "execution_count": null,
   "metadata": {},
   "outputs": [],
   "source": [
    "#!/usr/bin/python3\n",
    "# -*- coding:utf-8 -*-\n",
    "import RPi.GPIO as GPIO\n",
    "import time\n",
    "import YB_Pcb_Car   \n",
    "\n",
    "car = YB_Pcb_Car.YB_Pcb_Car()"
   ]
  },
  {
   "cell_type": "markdown",
   "metadata": {},
   "source": [
    "### Define the pins.\n",
    "### Set the coding method of GPIO and initial settings."
   ]
  },
  {
   "cell_type": "code",
   "execution_count": null,
   "metadata": {},
   "outputs": [],
   "source": [
    "PIN = 36; #Define IR pin\n",
    "buzzer = 32; #Define buzzer pin\n",
    "\n",
    "#Set the GPIO port to BIARD encoding mode\n",
    "GPIO.setmode(GPIO.BOARD)\n",
    "\n",
    "#Ignore the warning message\n",
    "GPIO.setwarnings(False)\n",
    "\n",
    "ir_repeat_cnt = 0\n",
    "\n",
    "def init():\n",
    "    GPIO.setup(PIN,GPIO.IN,GPIO.PUD_UP)  #The pin of the red external device needs to be set to input pull-up\n",
    "    GPIO.setup(buzzer,GPIO.OUT)         #Buzzer pin be set to output mode\n",
    "    \n",
    "    print(\"IR control start...\")\n",
    "\n",
    "#whistle\n",
    "def whistle():\n",
    "    p = GPIO.PWM(buzzer, 440)\n",
    "    p.start(50)\n",
    "    time.sleep(0.5)\n",
    "    p.stop() "
   ]
  },
  {
   "cell_type": "markdown",
   "metadata": {},
   "source": [
    "### The function exec_cmd defines the function of all the buttons on the infrared remote control.\n",
    "### Here we only define some key functions. Users can add functions by themselves."
   ]
  },
  {
   "cell_type": "code",
   "execution_count": null,
   "metadata": {},
   "outputs": [],
   "source": [
    "def exec_cmd(key_val):\n",
    "    if key_val==0x45:  #Power button\n",
    "        car.Ctrl_Servo(1, 90)\n",
    "        car.Ctrl_Servo(2, 90)\n",
    "        car.Car_Stop()\n",
    "    elif key_val==0x40:   #+ button\n",
    "        car.Car_Run(100, 100)   #car advance\n",
    "    elif key_val==0x15:   #Stop button\n",
    "        car.Car_Stop()\n",
    "    elif key_val==0x07:   #Left button\n",
    "        car.Car_Left(100, 100)\n",
    "    elif key_val==0x47:   #MENU button\n",
    "        whistle()         #buzzer whistle\n",
    "    elif key_val==0x09:   #Right button\n",
    "        car.Car_Right(100, 100)\n",
    "    elif key_val==0x16:   #0 button\n",
    "        car.Car_Spin_Left(100, 100)\n",
    "    elif key_val==0x19:   #- button\n",
    "        car.Car_Back(100, 100)  \n",
    "    elif key_val==0x0d:   #C button\n",
    "        car.Car_Spin_Right(100, 100)\n",
    "    elif key_val==0x0c:   #1 button\n",
    "        car.Ctrl_Servo(1, 0)\n",
    "    elif key_val==0x18:   #2 button\n",
    "        car.Ctrl_Servo(1, 90)\n",
    "    elif key_val==0x5e:   #3 button\n",
    "        car.Ctrl_Servo(1, 180)\n",
    "    elif key_val==0x08:   #4 button\n",
    "        car.Ctrl_Servo(2, 0)\n",
    "    elif key_val==0x1c:   #5 button\n",
    "        car.Ctrl_Servo(2, 90)\n",
    "    elif key_val==0x5a:   #6 button\n",
    "        car.Ctrl_Servo(2, 180)\n",
    "    else:\n",
    "        print(key_val)\n",
    "        print(\"no cmd\")\n",
    "        \n",
    "    "
   ]
  },
  {
   "cell_type": "markdown",
   "metadata": {},
   "source": [
    "### Main process"
   ]
  },
  {
   "cell_type": "code",
   "execution_count": null,
   "metadata": {},
   "outputs": [],
   "source": [
    "try:\n",
    "    init()\n",
    "    while True:\n",
    "        if GPIO.input(PIN) == 0:\n",
    "            ir_repeat_cnt = 0;\n",
    "            count = 0\n",
    "            while GPIO.input(PIN) == 0 and count < 200:\n",
    "                count += 1\n",
    "                time.sleep(0.00006)\n",
    "\n",
    "            count = 0\n",
    "            while GPIO.input(PIN) == 1 and count < 80:\n",
    "                count += 1\n",
    "                time.sleep(0.00006)\n",
    "\n",
    "            idx = 0\n",
    "            cnt = 0\n",
    "            data = [0,0,0,0]\n",
    "            for i in range(0,32):\n",
    "                count = 0\n",
    "                while GPIO.input(PIN) == 0 and count < 15:\n",
    "                    count += 1\n",
    "                    time.sleep(0.00006)\n",
    "\n",
    "                count = 0\n",
    "                while GPIO.input(PIN) == 1 and count < 40:\n",
    "                    count += 1\n",
    "                    time.sleep(0.00006)\n",
    "\n",
    "                if count > 9:\n",
    "                    data[idx] |= 1<<cnt\n",
    "                if cnt == 7:\n",
    "                    cnt = 0\n",
    "                    idx += 1\n",
    "                else:\n",
    "                    cnt += 1\n",
    "            if data[0]+data[1] == 0xFF and data[2]+data[3] == 0xFF:\n",
    "                print(\"Get the key: 0x%02x\" %data[2])\n",
    "                exec_cmd(data[2])\n",
    "        else:\n",
    "            if ir_repeat_cnt > 110: #Judge whether the infrared remote control button is released, because the repetition cycle time is 110ms, so here it should be set to 110*0.001.\n",
    "                ir_repeat_cnt = 0\n",
    "                car.Car_Stop()\n",
    "            else:\n",
    "                time.sleep(0.001)\n",
    "                ir_repeat_cnt += 1\n",
    "except KeyboardInterrupt:\n",
    "    pass\n",
    "print(\"Ending\")\n",
    "GPIO.cleanup()"
   ]
  },
  {
   "cell_type": "markdown",
   "metadata": {},
   "source": [
    "### When you need to end the entire program, please click the square button (Interrupt the kernel) in the upper menu bar.\n",
    "### Then you can see the Ending prompt, which means the program has been successfully ended"
   ]
  },
  {
   "cell_type": "code",
   "execution_count": null,
   "metadata": {},
   "outputs": [],
   "source": []
  }
 ],
 "metadata": {
  "kernelspec": {
   "display_name": "Python 3",
   "language": "python",
   "name": "python3"
  },
  "language_info": {
   "codemirror_mode": {
    "name": "ipython",
    "version": 3
   },
   "file_extension": ".py",
   "mimetype": "text/x-python",
   "name": "python",
   "nbconvert_exporter": "python",
   "pygments_lexer": "ipython3",
   "version": "3.7.3"
  }
 },
 "nbformat": 4,
 "nbformat_minor": 4
}
