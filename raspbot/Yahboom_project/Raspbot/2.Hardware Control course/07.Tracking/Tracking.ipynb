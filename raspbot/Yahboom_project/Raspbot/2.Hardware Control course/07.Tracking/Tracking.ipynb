{
 "cells": [
  {
   "cell_type": "markdown",
   "metadata": {},
   "source": [
    "/**\n",
    "* @par Copyright (C): 2010-2020, Shenzhen Yahboom Tech\n",
    "* @file:         Tracking_test\n",
    "* @author:       xiaozhen\n",
    "* @version：     V1.0\n",
    "* @date:         2020.09.25\n",
    "* @brief:        巡线实验\n",
    "* @details:\n",
    "* @par History:  见如下说明\n",
    "*/"
   ]
  },
  {
   "cell_type": "markdown",
   "metadata": {},
   "source": [
    "### 运行如下所示的程序之后，"
   ]
  },
  {
   "cell_type": "code",
   "execution_count": 1,
   "metadata": {},
   "outputs": [],
   "source": [
    "#-*- coding:UTF-8 -*-\n",
    "import RPi.GPIO as GPIO\n",
    "import time\n",
    "import YB_Pcb_Car    #导入Yahboom专门库文件\n",
    "\n",
    "car = YB_Pcb_Car.YB_Pcb_Car()\n",
    "\n",
    "Tracking_Right1 = 11   #X1A  右边第一个传感器\n",
    "Tracking_Right2 = 7  #X2A  右边第二个传感器\n",
    "Tracking_Left1 = 13   #X1B 左边第一个传感器\n",
    "Tracking_Left2 = 15   #X2B 左边第二个传感器\n",
    "\n",
    "GPIO.setmode(GPIO.BOARD)\n",
    "\n",
    "GPIO.setwarnings(False)\n",
    "\n",
    "GPIO.setup(Tracking_Left1,GPIO.IN)\n",
    "GPIO.setup(Tracking_Left2,GPIO.IN)\n",
    "GPIO.setup(Tracking_Right1,GPIO.IN)\n",
    "GPIO.setup(Tracking_Right2,GPIO.IN)"
   ]
  },
  {
   "cell_type": "code",
   "execution_count": 2,
   "metadata": {},
   "outputs": [],
   "source": [
    "def tracking_function():\n",
    "    Tracking_Left1Value = GPIO.input(Tracking_Left1);\n",
    "    Tracking_Left2Value = GPIO.input(Tracking_Left2);\n",
    "    Tracking_Right1Value = GPIO.input(Tracking_Right1);\n",
    "    Tracking_Right2Value = GPIO.input(Tracking_Right2);\n",
    "    \n",
    "        #四路循迹引脚电平状态\n",
    "        # 0 0 X 0\n",
    "        # 1 0 X 0\n",
    "        # 0 1 X 0\n",
    "        #以上6种电平状态时小车原地右转\n",
    "        #处理右锐角和右直角的转动\n",
    "    if (Tracking_Left1Value == False or Tracking_Left2Value == False) and  Tracking_Right2Value == False:\n",
    "        car.Car_Spin_Right(70, 30)\n",
    "        time.sleep(0.2)\n",
    " \n",
    "        #四路循迹引脚电平状态\n",
    "        # 0 X 0 0       \n",
    "        # 0 X 0 1 \n",
    "        # 0 X 1 0       \n",
    "        #处理左锐角和左直角的转动\n",
    "    elif Tracking_Left1Value == False and (Tracking_Right1Value == False or  Tracking_Right2Value == False):\n",
    "        car.Car_Spin_Left(30, 70) \n",
    "        time.sleep(0.2)\n",
    "  \n",
    "        # 0 X X X\n",
    "        #最左边检测到\n",
    "    elif Tracking_Left1Value == False:\n",
    "        car.Car_Spin_Left(70, 70) \n",
    "        time.sleep(0.05)\n",
    "        # X X X 0\n",
    "        #最右边检测到\n",
    "    elif Tracking_Right2Value == False:\n",
    "        car.Car_Spin_Right(70, 70)\n",
    "        time.sleep(0.05)\n",
    "        #四路循迹引脚电平状态\n",
    "        # X 0 1 X\n",
    "        #处理左小弯\n",
    "    elif Tracking_Left2Value == False and Tracking_Right1Value == True:\n",
    "        car.Car_Spin_Left(60, 60) \n",
    "        time.sleep(0.02)\n",
    "        #四路循迹引脚电平状态\n",
    "        # X 1 0 X  \n",
    "        #处理右小弯\n",
    "    elif Tracking_Left2Value == True and Tracking_Right1Value == False:\n",
    "        car.Car_Spin_Right(60, 60)\n",
    "        time.sleep(0.02)\n",
    "   \n",
    "        #四路循迹引脚电平状态\n",
    "        # X 0 0 X\n",
    "        #处理直线\n",
    "    elif Tracking_Left2Value == False and Tracking_Right1Value == False:\n",
    "\t    car.Car_Run(70, 70) \n",
    "   \n",
    "        #当为1 1 1 1时小车保持上一个小车运行状态"
   ]
  },
  {
   "cell_type": "code",
   "execution_count": 3,
   "metadata": {},
   "outputs": [
    {
     "name": "stdout",
     "output_type": "stream",
     "text": [
      "Ending\n"
     ]
    }
   ],
   "source": [
    "try:\n",
    "    while True:\n",
    "        #car.Car_Run(70) \n",
    "        tracking_function()\n",
    "except KeyboardInterrupt:\n",
    "    pass\n",
    "car.Car_Stop() \n",
    "del car\n",
    "print(\"Ending\")\n",
    "GPIO.cleanup()"
   ]
  },
  {
   "cell_type": "code",
   "execution_count": null,
   "metadata": {},
   "outputs": [],
   "source": []
  },
  {
   "cell_type": "markdown",
   "metadata": {},
   "source": [
    "### 当你需要结束整个程序时，请点击上方菜单栏中的方块型按钮(Interrupt the kernel）.\n",
    "### 然后你可以看到Ending提示，表示已经成功地结束了这个程序"
   ]
  },
  {
   "cell_type": "code",
   "execution_count": null,
   "metadata": {},
   "outputs": [],
   "source": []
  }
 ],
 "metadata": {
  "kernelspec": {
   "display_name": "Python 3",
   "language": "python",
   "name": "python3"
  },
  "language_info": {
   "codemirror_mode": {
    "name": "ipython",
    "version": 3
   },
   "file_extension": ".py",
   "mimetype": "text/x-python",
   "name": "python",
   "nbconvert_exporter": "python",
   "pygments_lexer": "ipython3",
   "version": "3.7.3"
  }
 },
 "nbformat": 4,
 "nbformat_minor": 4
}
