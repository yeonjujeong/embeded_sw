{
 "cells": [
  {
   "cell_type": "markdown",
   "metadata": {},
   "source": [
    "/**\n",
    "* @par Copyright (C): 2010-2020, Shenzhen Yahboom Tech\n",
    "* @file:         Restricting_test\n",
    "* @author:       xiaozhang\n",
    "* @version：     V1.0\n",
    "* @date:         2020.11.24\n",
    "* @brief:        画地为牢实验\n",
    "* @details:\n",
    "* @par History:  见如下说明\n",
    "*/"
   ]
  },
  {
   "cell_type": "markdown",
   "metadata": {},
   "source": [
    "### 运行如下所示的程序之后，"
   ]
  },
  {
   "cell_type": "code",
   "execution_count": null,
   "metadata": {},
   "outputs": [],
   "source": [
    "#-*- coding:UTF-8 -*-\n",
    "import RPi.GPIO as GPIO\n",
    "import time\n",
    "import YB_Pcb_Car    #导入Yahboom专门库文件\n",
    "\n",
    "car = YB_Pcb_Car.YB_Pcb_Car()\n",
    "\n",
    "Tracking_Right1 = 11   #X1A  右边第一个传感器\n",
    "Tracking_Right2 = 7  #X2A  右边第二个传感器\n",
    "Tracking_Left1 = 13   #X1B 左边第一个传感器\n",
    "Tracking_Left2 = 15   #X2B 左边第二个传感器\n",
    "\n",
    "GPIO.setmode(GPIO.BOARD)\n",
    "\n",
    "GPIO.setwarnings(False)\n",
    "\n",
    "GPIO.setup(Tracking_Left1,GPIO.IN)\n",
    "GPIO.setup(Tracking_Left2,GPIO.IN)\n",
    "GPIO.setup(Tracking_Right1,GPIO.IN)\n",
    "GPIO.setup(Tracking_Right2,GPIO.IN)"
   ]
  },
  {
   "cell_type": "code",
   "execution_count": null,
   "metadata": {},
   "outputs": [],
   "source": [
    "#画地为牢功能函数\n",
    "def restricting():\n",
    "    Tracking_Left1Value = GPIO.input(Tracking_Left1);\n",
    "    Tracking_Left2Value = GPIO.input(Tracking_Left2);\n",
    "    Tracking_Right1Value = GPIO.input(Tracking_Right1);\n",
    "    Tracking_Right2Value = GPIO.input(Tracking_Right2);\n",
    "     \n",
    "        # 0000\n",
    "    if Tracking_Left1Value == False and Tracking_Left2Value == False and Tracking_Right1Value == False and Tracking_Right2Value == False :\n",
    "        car.Car_Spin_Right(75,75) \n",
    "        time.sleep(1)\n",
    "        #1X00\n",
    "    elif Tracking_Left1Value == True and Tracking_Right1Value == False and Tracking_Right2Value == False :\n",
    "        car.Car_Spin_Left(70,70) \n",
    "        time.sleep(1)\n",
    "        #00X1\n",
    "    elif Tracking_Left1Value == False and Tracking_Left2Value == False and Tracking_Right2Value == True :\n",
    "        car.Car_Spin_Right(70,70)\n",
    "        time.sleep(1)\n",
    "        #10X1\n",
    "    elif Tracking_Left1Value == True and Tracking_Left2Value == False and Tracking_Right2Value == True :\n",
    "        car.Car_Spin_Right(70,70) \n",
    "        time.sleep(1)\n",
    "        #1X01\n",
    "    elif Tracking_Left1Value == True and Tracking_Right1Value == False and Tracking_Right2Value == True :\n",
    "        car.Car_Spin_Right(70,70) \n",
    "        time.sleep(1)    \n",
    "        #0110\n",
    "    elif Tracking_Left1Value == False and Tracking_Left2Value == True and Tracking_Right1Value == True and Tracking_Right2Value == False :\n",
    "        car.Car_Spin_Right(70,70) \n",
    "        time.sleep(1)\n",
    "        #0111\n",
    "    elif Tracking_Left1Value == False and Tracking_Left2Value == True and Tracking_Right1Value == True and Tracking_Right2Value == True :\n",
    "        car.Car_Spin_Right(50,50) \n",
    "        time.sleep(1)\n",
    "        #1110\n",
    "    elif Tracking_Left1Value == True and Tracking_Left2Value == True and Tracking_Right1Value == True and Tracking_Right2Value == False :\n",
    "        car.Car_Spin_Left(50,50) \n",
    "        time.sleep(1)\n",
    "    elif Tracking_Left1Value == True and Tracking_Left2Value == True and Tracking_Right1Value == True and Tracking_Right2Value == True :\n",
    "        car.Car_Run(70,70) \n"
   ]
  },
  {
   "cell_type": "code",
   "execution_count": null,
   "metadata": {},
   "outputs": [],
   "source": [
    "try:\n",
    "    while True:\n",
    "        restricting()\n",
    "except KeyboardInterrupt:\n",
    "    pass\n",
    "car.Car_Stop() \n",
    "del car\n",
    "print(\"Ending\")\n",
    "GPIO.cleanup()"
   ]
  },
  {
   "cell_type": "markdown",
   "metadata": {},
   "source": [
    "### 当你需要结束整个程序时，请点击上方菜单栏中的方块型按钮(Interrupt the kernel）.\n",
    "### 然后你可以看到Ending提示，表示已经成功地结束了这个程序"
   ]
  },
  {
   "cell_type": "code",
   "execution_count": null,
   "metadata": {},
   "outputs": [],
   "source": []
  }
 ],
 "metadata": {
  "kernelspec": {
   "display_name": "Python 3",
   "language": "python",
   "name": "python3"
  },
  "language_info": {
   "codemirror_mode": {
    "name": "ipython",
    "version": 3
   },
   "file_extension": ".py",
   "mimetype": "text/x-python",
   "name": "python",
   "nbconvert_exporter": "python",
   "pygments_lexer": "ipython3",
   "version": "3.7.3"
  }
 },
 "nbformat": 4,
 "nbformat_minor": 4
}
