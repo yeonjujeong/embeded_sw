{
 "cells": [
  {
   "cell_type": "markdown",
   "metadata": {},
   "source": [
    "/**\n",
    "* @par Copyright (C): 2010-2020, Shenzhen Yahboom Tech\n",
    "* @file:         Tracking sensor test\n",
    "* @author:       xiaozhen\n",
    "* @version：     V1.0\n",
    "* @date:         2020.09.25\n",
    "* @brief:        Tracking sensor test\n",
    "* @details:\n",
    "* @par History:  Description below\n",
    "*/"
   ]
  },
  {
   "cell_type": "markdown",
   "metadata": {},
   "source": [
    "### After running the program shown below, you can see that the status of the pins of the four line tracking sensors will be printed out.\n",
    "#### The indicator is on when the black line is detected, and the indicator is off when the black line is not detected."
   ]
  },
  {
   "cell_type": "code",
   "execution_count": null,
   "metadata": {},
   "outputs": [],
   "source": [
    "#-*- coding:UTF-8 -*-\n",
    "import RPi.GPIO as GPIO\n",
    "import time\n",
    "\n",
    "Tracking_Left1 = 13   #X1B Left 1 IR sensor\n",
    "Tracking_Left2 = 15   #X2B Left 2 IR sensor\n",
    "Tracking_Right1 = 11   #X1A  Right 1 IR sensor\n",
    "Tracking_Right2 = 7  #X2A  Right 2 IR sensor\n",
    "\n",
    "GPIO.setmode(GPIO.BOARD)\n",
    "\n",
    "GPIO.setwarnings(False)\n",
    "\n",
    "GPIO.setup(Tracking_Left1,GPIO.IN)\n",
    "GPIO.setup(Tracking_Left2,GPIO.IN)\n",
    "GPIO.setup(Tracking_Right1,GPIO.IN)\n",
    "GPIO.setup(Tracking_Right2,GPIO.IN)\n",
    "\n",
    "print ('start')\n",
    "\n",
    "try:\n",
    "    while True:\n",
    "        Tracking_Left1Value = GPIO.input(Tracking_Left1);\n",
    "        Tracking_Left2Value = GPIO.input(Tracking_Left2);\n",
    "        Tracking_Right1Value = GPIO.input(Tracking_Right1);\n",
    "        Tracking_Right2Value = GPIO.input(Tracking_Right2);\n",
    "        print (Tracking_Left1Value)\n",
    "        print (Tracking_Left2Value)\n",
    "        print (Tracking_Right1Value)\n",
    "        print (Tracking_Right2Value)\n",
    "        print ('---')\n",
    "        time.sleep(1)\n",
    "except KeyboardInterrupt:\n",
    "    pass\n",
    "print(\"Ending\")\n",
    "GPIO.cleanup()"
   ]
  },
  {
   "cell_type": "code",
   "execution_count": null,
   "metadata": {},
   "outputs": [],
   "source": []
  },
  {
   "cell_type": "markdown",
   "metadata": {},
   "source": [
    "### When you need to end the entire program, please click the square button (Interrupt the kernel) in the upper menu bar.\n",
    "### Then you can see the Ending prompt, which means the program has been successfully ended"
   ]
  }
 ],
 "metadata": {
  "kernelspec": {
   "display_name": "Python 3",
   "language": "python",
   "name": "python3"
  },
  "language_info": {
   "codemirror_mode": {
    "name": "ipython",
    "version": 3
   },
   "file_extension": ".py",
   "mimetype": "text/x-python",
   "name": "python",
   "nbconvert_exporter": "python",
   "pygments_lexer": "ipython3",
   "version": "3.7.3"
  }
 },
 "nbformat": 4,
 "nbformat_minor": 4
}
