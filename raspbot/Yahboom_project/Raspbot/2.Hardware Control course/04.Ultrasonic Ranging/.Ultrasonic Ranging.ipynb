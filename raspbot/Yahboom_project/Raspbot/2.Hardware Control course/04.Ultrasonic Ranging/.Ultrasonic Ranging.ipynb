{
 "cells": [
  {
   "cell_type": "markdown",
   "metadata": {},
   "source": [
    "/**\n",
    "* @par Copyright (C): 2010-2020, Shenzhen Yahboom Tech\n",
    "* @file:         超声波测距.ipynb\n",
    "* @author:       xiaozhen\n",
    "* @version：     V1.0\n",
    "* @date:         2020.10.10\n",
    "* @brief:        超声波测距并将距离打印出来\n",
    "* @details:\n",
    "* @par History:  见如下说明\n",
    "*/"
   ]
  },
  {
   "cell_type": "markdown",
   "metadata": {},
   "source": [
    "### 运行如下所示的程序之后，你可以看到超声波所测量的数据会被打印出来。"
   ]
  },
  {
   "cell_type": "code",
   "execution_count": 1,
   "metadata": {},
   "outputs": [
    {
     "name": "stdout",
     "output_type": "stream",
     "text": [
      "distance is 76.191823\n",
      "distance is 96.907298\n",
      "distance is 89.496851\n",
      "distance is 107.385953\n",
      "distance is 85.830132\n",
      "distance is 111.047268\n",
      "distance is 86.804231\n",
      "distance is 82.398494\n",
      "distance is 52.327077\n",
      "distance is 77.694178\n",
      "distance is 80.446243\n",
      "distance is 77.963034\n",
      "distance is 73.495150\n",
      "distance is 75.012366\n",
      "distance is 75.420380\n",
      "distance is 74.843486\n",
      "distance is 76.109409\n",
      "distance is 77.222665\n",
      "distance is 99.653959\n",
      "distance is 84.300756\n",
      "distance is 90.108871\n",
      "distance is 93.262196\n",
      "distance is 76.547146\n",
      "distance is 76.118867\n",
      "distance is 90.969483\n",
      "distance is 75.578451\n",
      "distance is 78.653415\n",
      "distance is 76.710622\n",
      "distance is 75.429837\n",
      "distance is 76.833566\n",
      "distance is 76.572816\n",
      "distance is 77.278058\n",
      "distance is 75.165033\n",
      "distance is 75.701396\n",
      "distance is 76.683601\n",
      "Ending\n"
     ]
    }
   ],
   "source": [
    "#-*- coding:UTF-8 -*-\n",
    "import RPi.GPIO as GPIO\n",
    "import time\n",
    "\n",
    "GPIO.setwarnings(False)\n",
    "\n",
    "EchoPin = 18\n",
    "TrigPin = 16\n",
    "\n",
    "#设置GPIO口为BCM编码方式\n",
    "GPIO.setmode(GPIO.BOARD)\n",
    "\n",
    "GPIO.setup(EchoPin,GPIO.IN)\n",
    "GPIO.setup(TrigPin,GPIO.OUT)\n",
    "\n",
    "#超声波函数\n",
    "def Distance():\n",
    "    GPIO.output(TrigPin,GPIO.LOW)\n",
    "    time.sleep(0.000002)\n",
    "    GPIO.output(TrigPin,GPIO.HIGH)\n",
    "    time.sleep(0.000015)\n",
    "    GPIO.output(TrigPin,GPIO.LOW)\n",
    "\n",
    "    t3 = time.time()\n",
    "\n",
    "    while not GPIO.input(EchoPin):\n",
    "        t4 = time.time()\n",
    "        if (t4 - t3) > 0.03 :\n",
    "            return -1\n",
    "    t1 = time.time()\n",
    "    while GPIO.input(EchoPin):\n",
    "        t5 = time.time()\n",
    "        if(t5 - t1) > 0.03 :\n",
    "            return -1\n",
    "\n",
    "    t2 = time.time()\n",
    "    time.sleep(0.01)\n",
    "    #print (\"distance_1 is %d \" % (((t2 - t1)* 340 / 2) * 100))\n",
    "    return ((t2 - t1)* 340 / 2) * 100\n",
    "\n",
    "def Distance_test():\n",
    "    num = 0\n",
    "    ultrasonic = []\n",
    "    while num < 5:\n",
    "            distance = Distance()\n",
    "            #print(\"distance is %f\"%(distance) )\n",
    "            while int(distance) == -1 :\n",
    "                distance = Distance()\n",
    "                #print(\"Tdistance is %f\"%(distance) )\n",
    "            while (int(distance) >= 500 or int(distance) == 0) :\n",
    "                distance = Distance()\n",
    "                #print(\"Edistance is %f\"%(distance) )\n",
    "            ultrasonic.append(distance)\n",
    "            num = num + 1\n",
    "            time.sleep(0.01)\n",
    "    distance = (ultrasonic[1] + ultrasonic[2] + ultrasonic[3])/3\n",
    "    print(\"distance is %f\"%(distance) ) \n",
    "    return distance\n",
    "\n",
    "try:\n",
    "    while True:\n",
    "        distance = Distance_test()\n",
    "        time.sleep(1)\n",
    "except KeyboardInterrupt:\n",
    "    pass\n",
    "print(\"Ending\")\n",
    "GPIO.cleanup()"
   ]
  },
  {
   "cell_type": "markdown",
   "metadata": {},
   "source": [
    "### 当你需要结束整个程序时，请点击上方菜单栏中的方块型按钮(Interrupt the kernel）.\n",
    "### 然后你可以看到Ending提示，表示已经成功地结束了这个程序"
   ]
  },
  {
   "cell_type": "code",
   "execution_count": null,
   "metadata": {},
   "outputs": [],
   "source": []
  }
 ],
 "metadata": {
  "kernelspec": {
   "display_name": "Python 3",
   "language": "python",
   "name": "python3"
  },
  "language_info": {
   "codemirror_mode": {
    "name": "ipython",
    "version": 3
   },
   "file_extension": ".py",
   "mimetype": "text/x-python",
   "name": "python",
   "nbconvert_exporter": "python",
   "pygments_lexer": "ipython3",
   "version": "3.7.3"
  }
 },
 "nbformat": 4,
 "nbformat_minor": 4
}
