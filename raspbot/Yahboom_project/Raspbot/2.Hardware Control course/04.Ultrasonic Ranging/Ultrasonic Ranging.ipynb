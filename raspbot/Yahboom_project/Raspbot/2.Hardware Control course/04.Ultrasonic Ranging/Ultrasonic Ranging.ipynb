{
 "cells": [
  {
   "cell_type": "markdown",
   "metadata": {},
   "source": [
    "/**\n",
    "* @par Copyright (C): 2010-2020, Shenzhen Yahboom Tech\n",
    "* @file:         Ultrasonic Ranging.ipynb\n",
    "* @author:       xiaozhen\n",
    "* @version：     V1.0\n",
    "* @date:         2020.10.10\n",
    "* @brief:        Ultrasonic distance measurement and print the distance\n",
    "* @details:\n",
    "* @par History:  Description below\n",
    "*/"
   ]
  },
  {
   "cell_type": "markdown",
   "metadata": {},
   "source": [
    "### After running the program shown below, you can see that the data measured by the ultrasounic module will be printed out."
   ]
  },
  {
   "cell_type": "code",
   "execution_count": null,
   "metadata": {},
   "outputs": [],
   "source": [
    "#-*- coding:UTF-8 -*-\n",
    "import RPi.GPIO as GPIO\n",
    "import time\n",
    "\n",
    "GPIO.setwarnings(False)\n",
    "\n",
    "EchoPin = 18\n",
    "TrigPin = 16\n",
    "\n",
    "#Set GPIO port to BCM coding mode\n",
    "GPIO.setmode(GPIO.BOARD)\n",
    "\n",
    "GPIO.setup(EchoPin,GPIO.IN)\n",
    "GPIO.setup(TrigPin,GPIO.OUT)\n",
    "\n",
    "#Ultrasonic function\n",
    "def Distance():\n",
    "    GPIO.output(TrigPin,GPIO.LOW)\n",
    "    time.sleep(0.000002)\n",
    "    GPIO.output(TrigPin,GPIO.HIGH)\n",
    "    time.sleep(0.000015)\n",
    "    GPIO.output(TrigPin,GPIO.LOW)\n",
    "\n",
    "    t3 = time.time()\n",
    "\n",
    "    while not GPIO.input(EchoPin):\n",
    "        t4 = time.time()\n",
    "        if (t4 - t3) > 0.03 :\n",
    "            return -1\n",
    "    t1 = time.time()\n",
    "    while GPIO.input(EchoPin):\n",
    "        t5 = time.time()\n",
    "        if(t5 - t1) > 0.03 :\n",
    "            return -1\n",
    "\n",
    "    t2 = time.time()\n",
    "    time.sleep(0.01)\n",
    "    #print (\"distance_1 is %d \" % (((t2 - t1)* 340 / 2) * 100))\n",
    "    return ((t2 - t1)* 340 / 2) * 100\n",
    "\n",
    "def Distance_test():\n",
    "    num = 0\n",
    "    ultrasonic = []\n",
    "    while num < 5:\n",
    "            distance = Distance()\n",
    "            #print(\"distance is %f\"%(distance) )\n",
    "            while int(distance) == -1 :\n",
    "                distance = Distance()\n",
    "                #print(\"Tdistance is %f\"%(distance) )\n",
    "            while (int(distance) >= 500 or int(distance) == 0) :\n",
    "                distance = Distance()\n",
    "                #print(\"Edistance is %f\"%(distance) )\n",
    "            ultrasonic.append(distance)\n",
    "            num = num + 1\n",
    "            time.sleep(0.01)\n",
    "    distance = (ultrasonic[1] + ultrasonic[2] + ultrasonic[3])/3\n",
    "    print(\"distance is %f\"%(distance) ) \n",
    "    return distance\n",
    "\n",
    "try:\n",
    "    while True:\n",
    "        distance = Distance_test()\n",
    "        time.sleep(1)\n",
    "except KeyboardInterrupt:\n",
    "    pass\n",
    "print(\"Ending\")\n",
    "GPIO.cleanup()"
   ]
  },
  {
   "cell_type": "markdown",
   "metadata": {},
   "source": [
    "### When you need to end the entire program, please click the square button (Interrupt the kernel) in the upper menu bar.\n",
    "### Then you can see the Ending prompt, which means the program has been successfully ended"
   ]
  },
  {
   "cell_type": "code",
   "execution_count": null,
   "metadata": {},
   "outputs": [],
   "source": []
  }
 ],
 "metadata": {
  "kernelspec": {
   "display_name": "Python 3",
   "language": "python",
   "name": "python3"
  },
  "language_info": {
   "codemirror_mode": {
    "name": "ipython",
    "version": 3
   },
   "file_extension": ".py",
   "mimetype": "text/x-python",
   "name": "python",
   "nbconvert_exporter": "python",
   "pygments_lexer": "ipython3",
   "version": "3.7.3"
  }
 },
 "nbformat": 4,
 "nbformat_minor": 4
}
