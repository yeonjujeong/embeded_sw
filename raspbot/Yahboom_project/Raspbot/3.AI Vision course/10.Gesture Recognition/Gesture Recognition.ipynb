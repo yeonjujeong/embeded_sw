{
 "cells": [
  {
   "cell_type": "markdown",
   "metadata": {},
   "source": [
    "<center><img src=\"../logo.png\" alt=\"Header\" style=\"width: 800px;\"/></center>"
   ]
  },
  {
   "cell_type": "markdown",
   "metadata": {},
   "source": [
    "\n",
    "@Copyright (C): 2010-2020, Shenzhen Yahboom Tech  \n",
    "@Author: Liusen  \n",
    "@Date: 2020-02-24 11:10:02  \n",
    "@LastEditors: Liusen  \n",
    "@LastEditTime: 2020-02-24 11:10:02    "
   ]
  },
  {
   "cell_type": "code",
   "execution_count": null,
   "metadata": {},
   "outputs": [],
   "source": [
    "import enum\n",
    "import cv2\n",
    "\n",
    "def bgr8_to_jpeg(value, quality=75):\n",
    "    return bytes(cv2.imencode('.jpg', value)[1])"
   ]
  },
  {
   "cell_type": "markdown",
   "metadata": {},
   "source": [
    "### Define gesture recognition function"
   ]
  },
  {
   "cell_type": "code",
   "execution_count": null,
   "metadata": {},
   "outputs": [],
   "source": [
    "import cv2 \n",
    "import time\n",
    "import demjson\n",
    "import pygame \n",
    "from aip import AipBodyAnalysis\n",
    "from aip import AipSpeech\n",
    "from PIL import Image, ImageDraw, ImageFont\n",
    "import numpy\n",
    "import ipywidgets.widgets as widgets\n",
    "\n",
    "hand={'One':'number_1','Five':'number_5','Fist':'fist','Ok':'OK',\n",
    "      'Prayer':'prayer','Congratulation':'congratulation','Honour':'honour',\n",
    "      'Heart_single':'比心心','Thumb_up':'点赞','Thumb_down':'Diss',\n",
    "      'ILY':'i love you','Palm_up':'palm_up','Heart_1':'heart_1',\n",
    "      'Heart_2':'heart_2','Heart_3':'heart_3','Two':'number_2',\n",
    "      'Three':'number_3','Four':'number_4','Six':'number_6','Seven':'number_7',\n",
    "      'Eight':'number_8','Nine':'number_9','Rock':'Rock','Face':'face'}\n",
    "\n",
    "\"\"\" APPID AK SK \"\"\"\n",
    "APP_ID = '24840713'\n",
    "API_KEY = 'WMvYkrI7omD8OyGlwqjHQMRK'\n",
    "SECRET_KEY = 'XAKxY0NyCL1QIfIRjEi8ScsPjGjsANuX'\n",
    "\n",
    "#camera = PiCamera()\n",
    "client = AipBodyAnalysis(APP_ID, API_KEY, SECRET_KEY)\n",
    "\n",
    "g_camera = cv2.VideoCapture(0)\n",
    "g_camera.set(3, 640)\n",
    "g_camera.set(4, 480)\n",
    "g_camera.set(5, 30)  #set frame\n",
    "g_camera.set(cv2.CAP_PROP_FOURCC, cv2.VideoWriter.fourcc('M', 'J', 'P', 'G'))\n",
    "g_camera.set(cv2.CAP_PROP_BRIGHTNESS, 60) #设置亮度 -64 - 64  0.0\n",
    "g_camera.set(cv2.CAP_PROP_CONTRAST, 50) #设置对比度 -64 - 64  2.0\n",
    "g_camera.set(cv2.CAP_PROP_EXPOSURE, 156) #设置曝光值 1.0 - 5000  156.0\n",
    "\n",
    "ret, frame = g_camera.read()"
   ]
  },
  {
   "cell_type": "markdown",
   "metadata": {},
   "source": [
    "# Define camera display components"
   ]
  },
  {
   "cell_type": "code",
   "execution_count": null,
   "metadata": {},
   "outputs": [],
   "source": [
    "image_widget = widgets.Image(format='jpeg', width=640, height=480)  \n",
    "display(image_widget)   \n",
    "image_widget.value = bgr8_to_jpeg(frame)"
   ]
  },
  {
   "cell_type": "markdown",
   "metadata": {},
   "source": [
    "# Define conversion display Chinese function"
   ]
  },
  {
   "cell_type": "code",
   "execution_count": null,
   "metadata": {},
   "outputs": [],
   "source": [
    "def cv2ImgAddText(img, text, left, top, textColor=(0, 255, 0), textSize=20):\n",
    "    if (isinstance(img, numpy.ndarray)):  # 判断是否OpenCV图片类型\n",
    "        img = Image.fromarray(cv2.cvtColor(img, cv2.COLOR_BGR2RGB))\n",
    "\n",
    "    draw = ImageDraw.Draw(img)\n",
    "\n",
    "    fontStyle = ImageFont.truetype(\n",
    "        \"simhei.ttf\", textSize, encoding=\"utf-8\")\n",
    "\n",
    "    draw.text((left, top), text, textColor, font=fontStyle)\n",
    "\n",
    "    return cv2.cvtColor(numpy.asarray(img), cv2.COLOR_RGB2BGR)"
   ]
  },
  {
   "cell_type": "markdown",
   "metadata": {},
   "source": [
    "# Main process"
   ]
  },
  {
   "cell_type": "code",
   "execution_count": null,
   "metadata": {},
   "outputs": [],
   "source": [
    "while True:\n",
    "    \"\"\"Take a pciture \"\"\"\n",
    "    ret, frame = g_camera.read()\n",
    "    #retval, frame =   g_camera.read()\n",
    "    \"\"\" call gesture \"\"\"\n",
    "    raw = str(client.gesture(image_widget.value))\n",
    "    text = demjson.decode(raw)\n",
    "    try:\n",
    "        res = text['result'][0]['classname']\n",
    "    except:\n",
    "        #print('nothing' )\n",
    "#       cv2.putText(frame, 'unrecognized', (250,30), cv2.FONT_HERSHEY_SIMPLEX, 1, (0,0,200), 2, cv2.LINE_AA) #只能显示英文\n",
    "        img = cv2ImgAddText(frame, \"unrecognized\", 250, 30, (0, 0 , 255), 30)\n",
    "    else:\n",
    "        print('Recognition result:' + hand[res])\n",
    "        #cv2.putText(frame, hand[res], (250,30), cv2.FONT_HERSHEY_SIMPLEX, 1, (0,0,0), 2, cv2.LINE_AA)\n",
    "        img = cv2ImgAddText(frame, hand[res], 250, 30, (0, 255 , 0), 30)\n",
    "\n",
    "    image_widget.value = bgr8_to_jpeg(img)\n",
    "          "
   ]
  },
  {
   "cell_type": "code",
   "execution_count": null,
   "metadata": {},
   "outputs": [],
   "source": [
    "g_camera.release()#End the process and release the camera"
   ]
  },
  {
   "cell_type": "code",
   "execution_count": null,
   "metadata": {},
   "outputs": [],
   "source": []
  }
 ],
 "metadata": {
  "kernelspec": {
   "display_name": "Python 3",
   "language": "python",
   "name": "python3"
  },
  "language_info": {
   "codemirror_mode": {
    "name": "ipython",
    "version": 3
   },
   "file_extension": ".py",
   "mimetype": "text/x-python",
   "name": "python",
   "nbconvert_exporter": "python",
   "pygments_lexer": "ipython3",
   "version": "3.7.3"
  }
 },
 "nbformat": 4,
 "nbformat_minor": 4
}
