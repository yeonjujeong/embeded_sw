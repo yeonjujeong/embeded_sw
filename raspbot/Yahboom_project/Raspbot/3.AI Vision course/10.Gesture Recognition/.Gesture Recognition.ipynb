{
 "cells": [
  {
   "cell_type": "markdown",
   "metadata": {},
   "source": [
    "<center><img src=\"../logo.png\" alt=\"Header\" style=\"width: 800px;\"/></center>"
   ]
  },
  {
   "cell_type": "markdown",
   "metadata": {},
   "source": [
    "\n",
    "@Copyright (C): 2010-2020, Shenzhen Yahboom Tech  \n",
    "@Author: Liusen  \n",
    "@Date: 2020-02-24 11:10:02  \n",
    "@LastEditors: Liusen  \n",
    "@LastEditTime: 2020-02-24 11:10:02    "
   ]
  },
  {
   "cell_type": "code",
   "execution_count": null,
   "metadata": {},
   "outputs": [],
   "source": [
    "#bgr8转jpeg格式\n",
    "import enum\n",
    "import cv2\n",
    "\n",
    "def bgr8_to_jpeg(value, quality=75):\n",
    "    return bytes(cv2.imencode('.jpg', value)[1])"
   ]
  },
  {
   "cell_type": "markdown",
   "metadata": {},
   "source": [
    "# 定义手势识别函数部分"
   ]
  },
  {
   "cell_type": "code",
   "execution_count": null,
   "metadata": {},
   "outputs": [],
   "source": [
    "import cv2 \n",
    "import time\n",
    "import demjson\n",
    "import pygame \n",
    "from aip import AipBodyAnalysis\n",
    "from aip import AipSpeech\n",
    "from PIL import Image, ImageDraw, ImageFont\n",
    "import numpy\n",
    "import ipywidgets.widgets as widgets\n",
    "\n",
    "# 具体手势请看官方提供 https://ai.baidu.com/ai-doc/BODY/4k3cpywrv\n",
    "hand={'One':'数字1','Five':'数字5','Fist':'拳头','Ok':'OK',\n",
    "      'Prayer':'祈祷','Congratulation':'作揖','Honour':'作别',\n",
    "      'Heart_single':'比心心','Thumb_up':'点赞','Thumb_down':'Diss',\n",
    "      'ILY':'我爱你','Palm_up':'掌心向上','Heart_1':'双手比心1',\n",
    "      'Heart_2':'双手比心2','Heart_3':'双手比心3','Two':'数字2',\n",
    "      'Three':'数字3','Four':'数字4','Six':'数字6','Seven':'数字7',\n",
    "      'Eight':'数字8','Nine':'数字9','Rock':'Rock','Insult':'竖中指','Face':'脸'}\n",
    "\n",
    "# 下面的key要换成自己的 \n",
    "\"\"\" 人体分析 APPID AK SK \"\"\"\n",
    "APP_ID = 'xxxx'\n",
    "API_KEY = 'xxxxx'\n",
    "SECRET_KEY = 'xxxxx'\n",
    "\n",
    "#camera = PiCamera()\n",
    "client = AipBodyAnalysis(APP_ID, API_KEY, SECRET_KEY)\n",
    "\n",
    "g_camera = cv2.VideoCapture(0)\n",
    "g_camera.set(3, 640)\n",
    "g_camera.set(4, 480)\n",
    "g_camera.set(5, 30)  #设置帧率\n",
    "g_camera.set(cv2.CAP_PROP_FOURCC, cv2.VideoWriter.fourcc('M', 'J', 'P', 'G'))\n",
    "g_camera.set(cv2.CAP_PROP_BRIGHTNESS, 60) #设置亮度 -64 - 64  0.0\n",
    "g_camera.set(cv2.CAP_PROP_CONTRAST, 50) #设置对比度 -64 - 64  2.0\n",
    "g_camera.set(cv2.CAP_PROP_EXPOSURE, 156) #设置曝光值 1.0 - 5000  156.0\n",
    "\n",
    "ret, frame = g_camera.read()"
   ]
  },
  {
   "cell_type": "markdown",
   "metadata": {},
   "source": [
    "# 定义摄像头显示组件"
   ]
  },
  {
   "cell_type": "code",
   "execution_count": null,
   "metadata": {},
   "outputs": [],
   "source": [
    "image_widget = widgets.Image(format='jpeg', width=640, height=480)  #设置摄像头显示组件\n",
    "display(image_widget)   \n",
    "image_widget.value = bgr8_to_jpeg(frame)"
   ]
  },
  {
   "cell_type": "markdown",
   "metadata": {},
   "source": [
    "# 定义转换显示中文函数"
   ]
  },
  {
   "cell_type": "code",
   "execution_count": null,
   "metadata": {},
   "outputs": [],
   "source": [
    "def cv2ImgAddText(img, text, left, top, textColor=(0, 255, 0), textSize=20):\n",
    "    if (isinstance(img, numpy.ndarray)):  # 判断是否OpenCV图片类型\n",
    "        img = Image.fromarray(cv2.cvtColor(img, cv2.COLOR_BGR2RGB))\n",
    "    # 创建一个可以在给定图像上绘图的对象\n",
    "    draw = ImageDraw.Draw(img)\n",
    "    # 字体的格式\n",
    "    fontStyle = ImageFont.truetype(\n",
    "        \"simhei.ttf\", textSize, encoding=\"utf-8\")\n",
    "    # 绘制文本\n",
    "    draw.text((left, top), text, textColor, font=fontStyle)\n",
    "    # 转换回OpenCV格式\n",
    "    return cv2.cvtColor(numpy.asarray(img), cv2.COLOR_RGB2BGR)"
   ]
  },
  {
   "cell_type": "markdown",
   "metadata": {},
   "source": [
    "# 主进程"
   ]
  },
  {
   "cell_type": "code",
   "execution_count": null,
   "metadata": {},
   "outputs": [],
   "source": [
    "while True:\n",
    "    \"\"\"拍照 \"\"\"\n",
    "    ret, frame = g_camera.read()\n",
    "    #retval, frame =   g_camera.read()\n",
    "    \"\"\" 调用手势识别 \"\"\"\n",
    "    raw = str(client.gesture(image_widget.value))\n",
    "    text = demjson.decode(raw)\n",
    "    try:\n",
    "        res = text['result'][0]['classname']\n",
    "    except:\n",
    "        #print('识别结果：什么也没识别到哦~' )\n",
    "        # 1 dst 2 文字内容 3 坐标 4 5 字体大小 6 color 7 粗细 8 line type\n",
    "#       cv2.putText(frame, '未识别', (250,30), cv2.FONT_HERSHEY_SIMPLEX, 1, (0,0,200), 2, cv2.LINE_AA) #只能显示英文\n",
    "        img = cv2ImgAddText(frame, \"未识别\", 250, 30, (0, 0 , 255), 30)\n",
    "    else:\n",
    "        print('识别结果：' + hand[res])\n",
    "        #cv2.putText(frame, hand[res], (250,30), cv2.FONT_HERSHEY_SIMPLEX, 1, (0,0,0), 2, cv2.LINE_AA)\n",
    "        img = cv2ImgAddText(frame, hand[res], 250, 30, (0, 255 , 0), 30)\n",
    "\n",
    "    image_widget.value = bgr8_to_jpeg(img)\n",
    "          "
   ]
  },
  {
   "cell_type": "code",
   "execution_count": null,
   "metadata": {},
   "outputs": [],
   "source": [
    "g_camera.release()#最后需要释放掉摄像头的占用"
   ]
  },
  {
   "cell_type": "code",
   "execution_count": null,
   "metadata": {},
   "outputs": [],
   "source": []
  }
 ],
 "metadata": {
  "kernelspec": {
   "display_name": "Python 3",
   "language": "python",
   "name": "python3"
  },
  "language_info": {
   "codemirror_mode": {
    "name": "ipython",
    "version": 3
   },
   "file_extension": ".py",
   "mimetype": "text/x-python",
   "name": "python",
   "nbconvert_exporter": "python",
   "pygments_lexer": "ipython3",
   "version": "3.7.3"
  }
 },
 "nbformat": 4,
 "nbformat_minor": 4
}
