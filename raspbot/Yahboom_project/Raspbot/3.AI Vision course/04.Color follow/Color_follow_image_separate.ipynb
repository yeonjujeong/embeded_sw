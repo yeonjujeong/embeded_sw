{
 "cells": [
  {
   "cell_type": "markdown",
   "metadata": {},
   "source": [
    "<center><img src=\"../logo.png\" alt=\"Header\" style=\"width: 800px;\"/></center>"
   ]
  },
  {
   "cell_type": "markdown",
   "metadata": {},
   "source": [
    "\n",
    "@Copyright (C): 2010-2020, Shenzhen Yahboom Tech  \n",
    "@Author: Liusen  \n",
    "@Date: 2020-02-04 17:20:02  \n",
    "@LastEditors: Liusen  \n",
    "@LastEditTime: 2020-09-30 18:50:02   "
   ]
  },
  {
   "cell_type": "code",
   "execution_count": null,
   "metadata": {},
   "outputs": [],
   "source": [
    "import YB_Pcb_Car    #Import Yahboom library\n",
    "car = YB_Pcb_Car.YB_Pcb_Car()"
   ]
  },
  {
   "cell_type": "code",
   "execution_count": null,
   "metadata": {},
   "outputs": [],
   "source": [
    "import enum\n",
    "import cv2\n",
    "\n",
    "def bgr8_to_jpeg(value, quality=75):\n",
    "    return bytes(cv2.imencode('.jpg', value)[1])"
   ]
  },
  {
   "cell_type": "code",
   "execution_count": null,
   "metadata": {},
   "outputs": [],
   "source": [
    "\n",
    "import cv2\n",
    "import traitlets\n",
    "import ipywidgets.widgets as widgets\n",
    "from IPython.display import display\n",
    "import time\n",
    "\n",
    "import threading\n",
    "import inspect\n",
    "import ctypes\n",
    "import numpy as np\n",
    "\n",
    "image_widget = widgets.Image(format='jpeg', width=320, height=240)\n",
    "display(image_widget)"
   ]
  },
  {
   "cell_type": "markdown",
   "metadata": {},
   "source": [
    "## Close thread function"
   ]
  },
  {
   "cell_type": "code",
   "execution_count": null,
   "metadata": {},
   "outputs": [],
   "source": [
    "def _async_raise(tid, exctype):\n",
    "    \"\"\"raises the exception, performs cleanup if needed\"\"\"\n",
    "    tid = ctypes.c_long(tid)\n",
    "    if not inspect.isclass(exctype):\n",
    "        exctype = type(exctype)\n",
    "    res = ctypes.pythonapi.PyThreadState_SetAsyncExc(tid, ctypes.py_object(exctype))\n",
    "    if res == 0:\n",
    "        raise ValueError(\"invalid thread id\")\n",
    "    elif res != 1:\n",
    "        # \"\"\"if it returns a number greater than one, you're in trouble,\n",
    "        # and you should call it again with exc=NULL to revert the effect\"\"\"\n",
    "        ctypes.pythonapi.PyThreadState_SetAsyncExc(tid, None)\n",
    "        \n",
    "def stop_thread(thread):\n",
    "    _async_raise(thread.ident, SystemExit)"
   ]
  },
  {
   "cell_type": "code",
   "execution_count": null,
   "metadata": {},
   "outputs": [],
   "source": [
    "global picture\n",
    "picture = np.ones((240,320,3),dtype =np.uint8)*255\n",
    "image = cv2.VideoCapture(0)\n",
    "\n",
    "image.set(3, 320)\n",
    "image.set(4, 240)\n",
    "image.set(5, 30)  #set frame\n",
    "image.set(cv2.CAP_PROP_FOURCC, cv2.VideoWriter.fourcc('M', 'J', 'P', 'G'))\n",
    "image.set(cv2.CAP_PROP_BRIGHTNESS, 62) \n",
    "image.set(cv2.CAP_PROP_CONTRAST, 63) \n",
    "image.set(cv2.CAP_PROP_EXPOSURE, 4800) \n",
    "ret, frame = image.read()\n",
    "image_widget.value = bgr8_to_jpeg(picture)"
   ]
  },
  {
   "cell_type": "code",
   "execution_count": null,
   "metadata": {},
   "outputs": [],
   "source": [
    "global g_mode\n",
    "g_mode = 0\n",
    "global color_x, color_y, color_radius\n",
    "color_x = color_y = color_radius = 0\n",
    "\n",
    "global g_mode\n",
    "g_mode = 0\n"
   ]
  },
  {
   "cell_type": "markdown",
   "metadata": {},
   "source": [
    "## Create an array to store red HSV color gamut data"
   ]
  },
  {
   "cell_type": "code",
   "execution_count": null,
   "metadata": {},
   "outputs": [],
   "source": [
    "import numpy as np\n",
    "global color_lower\n",
    "global color_upper\n"
   ]
  },
  {
   "cell_type": "code",
   "execution_count": null,
   "metadata": {},
   "outputs": [],
   "source": [
    "color_hsv  = {\"red\"   : ((0, 70, 72), (7, 255, 255)),\n",
    "              \"green\" : ((54, 109, 78), (77, 255, 255)),\n",
    "              \"blue\"  : ((92, 100, 62), (121, 251, 255)),\n",
    "              \"yellow\": ((26, 100, 91), (32, 255, 255))}"
   ]
  },
  {
   "cell_type": "code",
   "execution_count": null,
   "metadata": {},
   "outputs": [],
   "source": [
    "color = \"red\"\n",
    "color_lower = np.array([color_hsv[color][0][0],color_hsv[color][0][1],color_hsv[color][0][2]])\n",
    "color_upper = np.array([color_hsv[color][1][0], color_hsv[color][1][1], color_hsv[color][1][2]])"
   ]
  },
  {
   "cell_type": "code",
   "execution_count": null,
   "metadata": {},
   "outputs": [],
   "source": [
    "import PID\n",
    "\n",
    "direction_pid = PID.PositionalPID(0.8, 0, 0.8)\n",
    "\n",
    "\n",
    "yservo_pid = PID.PositionalPID(0.8, 0.2, 0.8)\n",
    "\n",
    "\n",
    "speed_pid = PID.PositionalPID(2.1, 0, 0.8)\n",
    "\n",
    "\n"
   ]
  },
  {
   "cell_type": "code",
   "execution_count": null,
   "metadata": {},
   "outputs": [],
   "source": [
    "car.Ctrl_Servo(1,90)\n",
    "car.Ctrl_Servo(2,90)"
   ]
  },
  {
   "cell_type": "markdown",
   "metadata": {},
   "source": [
    "## Color recognition main function"
   ]
  },
  {
   "cell_type": "code",
   "execution_count": null,
   "metadata": {},
   "outputs": [],
   "source": [
    "def Color_Recongnize():\n",
    "    global color_lower, color_upper, g_mode, first_read, while_cnt\n",
    "    global color_x, target_servox,picture\n",
    "    t_start = time.time()\n",
    "    fps = 0\n",
    "    ret, frame = image.read()\n",
    "    #frame = cv2.resize(frame, (300, 300))\n",
    "    frame = cv2.GaussianBlur(frame,(5,5),0) \n",
    "    first_read = 1\n",
    "    while_cnt = 0\n",
    "    time.sleep(1)\n",
    "    while True:\n",
    "        ret, frame = image.read()  \n",
    "        #frame = cv2.resize(frame, (300, 300))\n",
    "        #frame = cv2.GaussianBlur(frame,(3,3),0)  \n",
    "        hsv = cv2.cvtColor(frame,cv2.COLOR_BGR2HSV)\n",
    "        mask = cv2.inRange(hsv,color_lower,color_upper)   \n",
    "        mask = cv2.erode(mask,None,iterations=2)\n",
    "        mask = cv2.dilate(mask,None,iterations=2)\n",
    "        mask = cv2.GaussianBlur(mask,(5,5),0)\n",
    "        cnts = cv2.findContours(mask.copy(),cv2.RETR_EXTERNAL,cv2.CHAIN_APPROX_SIMPLE)[-2]\n",
    "        if 1:\n",
    "            if len(cnts) > 0:\n",
    "                cnt = max (cnts, key = cv2.contourArea)\n",
    "                (color_x,color_y),color_radius = cv2.minEnclosingCircle(cnt)\n",
    "\n",
    "                if color_radius > 5:\n",
    "\n",
    "                    cv2.circle(frame,(int(color_x),int(color_y)),int(color_radius),(255,0,255),2)  \n",
    "                    direction_pid.SystemOutput = color_x\n",
    "                    direction_pid.SetStepSignal(160)\n",
    "                    direction_pid.SetInertiaTime(0.01, 0.1)\n",
    "                    target_valuex = int(direction_pid.SystemOutput)\n",
    "                    #print(\"color_x %f\", color_x)                         \n",
    "                    #print(\"target_valuex %d\", target_valuex)   \n",
    "\n",
    "                    yservo_pid.SystemOutput = color_y\n",
    "                    yservo_pid.SetStepSignal(150)\n",
    "                    yservo_pid.SetInertiaTime(0.01, 0.1)\n",
    "                    target_valuey = int(1500-yservo_pid.SystemOutput)\n",
    "                    target_servoy = int((target_valuey-500)/10)                        \n",
    "                    #print(\"target_servoy %d\", target_servoy)  \n",
    "                    if target_servoy > 180:\n",
    "                        target_servoy = 180\n",
    "                    if target_servoy < 0:\n",
    "                        target_servoy = 0\n",
    "                    #print(target_servoy)\n",
    "\n",
    "\n",
    "                    speed_pid.SystemOutput = int(color_radius)\n",
    "                    speed_pid.SetStepSignal(40)\n",
    "                    speed_pid.SetInertiaTime(0.01, 0.1)               \n",
    "                    speed_value = int(speed_pid.SystemOutput)\n",
    "                    #print(\"color_radius %d\", color_radius)\n",
    "\n",
    "                    if speed_value > 250:\n",
    "                        speed_value = 250\n",
    "                    if speed_value < 0:\n",
    "                        speed_value = 0\n",
    "\n",
    "\n",
    "\n",
    "                    speed_value_l = speed_value - target_valuex\n",
    "                    speed_value_r = speed_value + target_valuex\n",
    "\n",
    "                    if speed_value_l > 250:\n",
    "                        speed_value_l = 250\n",
    "                    if speed_value_l < -250:\n",
    "                        speed_value_l = 250\n",
    "\n",
    "                    if speed_value_r > 250:\n",
    "                        speed_value_r = 250\n",
    "                    if speed_value_r < -250:\n",
    "                        speed_value_r = 250\n",
    "\n",
    "\n",
    "                    car.Control_Car(speed_value_l,speed_value_r)\n",
    "\n",
    "                    car.Ctrl_Servo(2,target_servoy)\n",
    "                \n",
    "                else:\n",
    "                    car.Car_Stop()\n",
    "                    \n",
    "            else:\n",
    "                car.Car_Stop()\n",
    "\n",
    "\n",
    "        fps = fps + 1\n",
    "        mfps = fps / (time.time() - t_start)\n",
    "        cv2.putText(frame, \"FPS \" + str(int(mfps)), (40,40), cv2.FONT_HERSHEY_SIMPLEX, 0.8, (0,255,255), 3)\n",
    "        #cv2.putText(frame, \"1\" , (160,120), cv2.FONT_HERSHEY_SIMPLEX, 0.8, (0,255,255), 3)\n",
    "        picture = frame\n",
    "        "
   ]
  },
  {
   "cell_type": "code",
   "execution_count": null,
   "metadata": {},
   "outputs": [],
   "source": [
    "def video():\n",
    "    global picture\n",
    "\n",
    "    image_widget.value = bgr8_to_jpeg(picture)"
   ]
  },
  {
   "cell_type": "markdown",
   "metadata": {},
   "source": [
    "##  Start"
   ]
  },
  {
   "cell_type": "code",
   "execution_count": null,
   "metadata": {},
   "outputs": [],
   "source": [
    "thread1 = threading.Thread(target=Color_Recongnize)\n",
    "thread1.setDaemon(True)\n",
    "thread1.start()"
   ]
  },
  {
   "cell_type": "code",
   "execution_count": null,
   "metadata": {},
   "outputs": [],
   "source": [
    "try:\n",
    "    while True:\n",
    "        video()\n",
    "except:\n",
    "    print(\"ending\")"
   ]
  },
  {
   "cell_type": "markdown",
   "metadata": {},
   "source": [
    "##  Close"
   ]
  },
  {
   "cell_type": "code",
   "execution_count": null,
   "metadata": {},
   "outputs": [],
   "source": [
    "stop_thread(thread1)"
   ]
  },
  {
   "cell_type": "code",
   "execution_count": null,
   "metadata": {},
   "outputs": [],
   "source": [
    "image.release()              #After using, we need to release the object, otherwise it will be occupied and cannot be used in the next program."
   ]
  },
  {
   "cell_type": "code",
   "execution_count": null,
   "metadata": {},
   "outputs": [],
   "source": [
    "car.Car_Stop()"
   ]
  },
  {
   "cell_type": "code",
   "execution_count": null,
   "metadata": {},
   "outputs": [],
   "source": []
  }
 ],
 "metadata": {
  "kernelspec": {
   "display_name": "Python 3",
   "language": "python",
   "name": "python3"
  },
  "language_info": {
   "codemirror_mode": {
    "name": "ipython",
    "version": 3
   },
   "file_extension": ".py",
   "mimetype": "text/x-python",
   "name": "python",
   "nbconvert_exporter": "python",
   "pygments_lexer": "ipython3",
   "version": "3.7.3"
  }
 },
 "nbformat": 4,
 "nbformat_minor": 4
}
