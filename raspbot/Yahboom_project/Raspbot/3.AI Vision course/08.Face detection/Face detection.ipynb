{
 "cells": [
  {
   "cell_type": "markdown",
   "metadata": {},
   "source": [
    "<center><img src=\"../../logo.png\" alt=\"Header\" style=\"width: 800px;\"/></center>"
   ]
  },
  {
   "cell_type": "markdown",
   "metadata": {},
   "source": [
    "\n",
    "@Copyright (C): 2010-2020, Shenzhen Yahboom Tech  \n",
    "@Author: Liusen  \n",
    "@Date: 2020-02-09 17:20:02  \n",
    "@LastEditors: xiaozhen\n",
    "@LastEditTime: 2020-09-30 18:20:02   "
   ]
  },
  {
   "cell_type": "code",
   "execution_count": null,
   "metadata": {},
   "outputs": [],
   "source": [
    "import enum\n",
    "import cv2\n",
    "\n",
    "def bgr8_to_jpeg(value, quality=75):\n",
    "    return bytes(cv2.imencode('.jpg', value)[1])"
   ]
  },
  {
   "cell_type": "code",
   "execution_count": null,
   "metadata": {},
   "outputs": [],
   "source": [
    "\n",
    "import cv2\n",
    "import ipywidgets.widgets as widgets\n",
    "import threading\n",
    "import time\n",
    "import sys\n",
    "\n",
    "image_widget = widgets.Image(format='jpeg', width=320, height=240)\n",
    "display(image_widget)"
   ]
  },
  {
   "cell_type": "code",
   "execution_count": null,
   "metadata": {
    "scrolled": true
   },
   "outputs": [],
   "source": [
    "image = cv2.VideoCapture(0)\n",
    "image.set(3,320)\n",
    "image.set(4,240) \n",
    "image.set(cv2.CAP_PROP_BRIGHTNESS, 60)  \n",
    "image.set(cv2.CAP_PROP_CONTRAST, 50)   \n",
    "image.set(cv2.CAP_PROP_EXPOSURE, 156)  \n",
    "ret, frame = image.read()\n",
    "image_widget.value = bgr8_to_jpeg(frame)"
   ]
  },
  {
   "cell_type": "code",
   "execution_count": null,
   "metadata": {},
   "outputs": [],
   "source": [
    "\n",
    "import inspect\n",
    "import ctypes\n",
    "def _async_raise(tid, exctype):\n",
    "    \"\"\"raises the exception, performs cleanup if needed\"\"\"\n",
    "    tid = ctypes.c_long(tid)\n",
    "    if not inspect.isclass(exctype):\n",
    "        exctype = type(exctype)\n",
    "    res = ctypes.pythonapi.PyThreadState_SetAsyncExc(tid, ctypes.py_object(exctype))\n",
    "    if res == 0:\n",
    "        raise ValueError(\"invalid thread id\")\n",
    "    elif res != 1:\n",
    "        # \"\"\"if it returns a number greater than one, you're in trouble,\n",
    "        # and you should call it again with exc=NULL to revert the effect\"\"\"\n",
    "        ctypes.pythonapi.PyThreadState_SetAsyncExc(tid, None)\n",
    "        \n",
    "def stop_thread(thread):\n",
    "    _async_raise(thread.ident, SystemExit)"
   ]
  },
  {
   "cell_type": "markdown",
   "metadata": {},
   "source": [
    "@ haarcascade_frontalface_default.xml  \n",
    "\n",
    "@ haarcascade_frontalface_alt2.xml   \n",
    "\n",
    "@ haarcascade_profileface.xml   \n",
    "\n",
    "@ haarcascade_lefteye_2splits.xml  \n",
    "\n",
    "@ haarcascade_righteye_2splits.xml   \n",
    "\n",
    "@ haarcascade_mcs_mouth.xml  \n",
    "\n",
    "@ haarcascade_mcs_nose.xml  \n",
    "\n",
    "@ haarcascade_fullbody.xml  \n",
    "\n",
    "@ lbpcascade_frontalface.xml  \n",
    " \n",
    "@ haarcascade_eye.xml  \n",
    "@ haarcascade_eye_tree_eyeglasses.xml \n",
    "@ Link: https://github.com/opencv/opencv/tree/master/data  download file\n",
    "\n",
    "@ The following return values: coordinate X, coordinate Y, width W, height H"
   ]
  },
  {
   "cell_type": "code",
   "execution_count": null,
   "metadata": {
    "scrolled": true
   },
   "outputs": [],
   "source": [
    "# body_haar = cv2.CascadeClassifier(\"haarcascade_upperbody.xml\")\n",
    "face_haar = cv2.CascadeClassifier(\"haarcascade_frontalface_default.xml\") #detect face\n",
    "eye_haar = cv2.CascadeClassifier(\"haarcascade_eye_tree_eyeglasses.xml\")  #detect face with glasses\n",
    "def Camera_display():\n",
    "    while 1:\n",
    "        ret, frame = image.read()\n",
    "\n",
    "        gray_img = cv2.cvtColor(frame, cv2.COLOR_BGR2GRAY)\n",
    "\n",
    "#         bodies = body_haar.detectMultiScale(gray_img, 1.3, 5)\n",
    "#         for body_x,body_y,body_w,body_h in bodies:\n",
    "#             cv2.rectangle(frame, (body_x, body_y), (body_x+body_w, body_y+body_h), (0,255,0), 2)\n",
    "\n",
    "# detectMultiScale（const Mat& image, vector& objects, double scaleFactor=1.1，int minNeighbors, int flag，cvSize）\n",
    "\n",
    "        faces = face_haar.detectMultiScale(gray_img, 1.1, 3)\n",
    "        for face_x,face_y,face_w,face_h in faces:\n",
    "            cv2.rectangle(frame, (face_x, face_y), (face_x+face_w, face_y+face_h), (0,255,0), 2)   \n",
    "            \n",
    "        eyes = eye_haar.detectMultiScale(gray_img, 1.1, 3)\n",
    "        for eye_x,eye_y,eye_w,eye_h in eyes:\n",
    "            cv2.rectangle(frame, (eye_x,eye_y), (eye_x+eye_w, eye_y+eye_h), (255,0,0), 2)    \n",
    "            \n",
    "        image_widget.value = bgr8_to_jpeg(frame)\n",
    "        time.sleep(0.010)"
   ]
  },
  {
   "cell_type": "code",
   "execution_count": null,
   "metadata": {
    "scrolled": true
   },
   "outputs": [],
   "source": [
    "\n",
    "thread1 = threading.Thread(target=Camera_display)\n",
    "thread1.setDaemon(True)\n",
    "thread1.start()"
   ]
  },
  {
   "cell_type": "code",
   "execution_count": null,
   "metadata": {
    "scrolled": true
   },
   "outputs": [],
   "source": [
    "#End the process and release the camera\n",
    "stop_thread(thread1)\n",
    "image.release()"
   ]
  },
  {
   "cell_type": "code",
   "execution_count": null,
   "metadata": {},
   "outputs": [],
   "source": []
  }
 ],
 "metadata": {
  "kernelspec": {
   "display_name": "Python 3",
   "language": "python",
   "name": "python3"
  },
  "language_info": {
   "codemirror_mode": {
    "name": "ipython",
    "version": 3
   },
   "file_extension": ".py",
   "mimetype": "text/x-python",
   "name": "python",
   "nbconvert_exporter": "python",
   "pygments_lexer": "ipython3",
   "version": "3.7.3"
  }
 },
 "nbformat": 4,
 "nbformat_minor": 4
}
