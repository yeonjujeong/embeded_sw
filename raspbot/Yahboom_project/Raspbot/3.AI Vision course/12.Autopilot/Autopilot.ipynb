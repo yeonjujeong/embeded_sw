{
 "cells": [
  {
   "cell_type": "markdown",
   "metadata": {},
   "source": [
    "<center><img src=\"../logo.png\" alt=\"Header\" style=\"width: 800px;\"/></center>"
   ]
  },
  {
   "cell_type": "markdown",
   "metadata": {},
   "source": [
    "\n",
    "@Copyright (C): 2010-2022, Shenzhen Yahboom Tech  \n",
    "@Author: Liusen  \n",
    "@Date: 2020-02-16 15:03:02  \n",
    "@LastEditors: Liusen  \n",
    "@LastEditTime: 2020-02-16 15:50:02   "
   ]
  },
  {
   "cell_type": "markdown",
   "metadata": {},
   "source": [
    "# Define modules "
   ]
  },
  {
   "cell_type": "code",
   "execution_count": null,
   "metadata": {},
   "outputs": [],
   "source": [
    "from IPython.display import display\n",
    "import ipywidgets.widgets as widgets\n",
    "import cv2\n",
    "import time\n",
    "\n",
    "\n",
    "import threading\n",
    "import inspect\n",
    "import ctypes\n",
    "import matplotlib.pyplot as plt"
   ]
  },
  {
   "cell_type": "code",
   "execution_count": null,
   "metadata": {},
   "outputs": [],
   "source": [
    "def _async_raise(tid, exctype):\n",
    "    \"\"\"raises the exception, performs cleanup if needed\"\"\"\n",
    "    tid = ctypes.c_long(tid)\n",
    "    if not inspect.isclass(exctype):\n",
    "        exctype = type(exctype)\n",
    "    res = ctypes.pythonapi.PyThreadState_SetAsyncExc(tid, ctypes.py_object(exctype))\n",
    "    if res == 0:\n",
    "        raise ValueError(\"invalid thread id\")\n",
    "    elif res != 1:\n",
    "        # \"\"\"if it returns a number greater than one, you're in trouble,\n",
    "        # and you should call it again with exc=NULL to revert the effect\"\"\"\n",
    "        ctypes.pythonapi.PyThreadState_SetAsyncExc(tid, None)\n",
    "        \n",
    "def stop_thread(thread):\n",
    "    _async_raise(thread.ident, SystemExit)"
   ]
  },
  {
   "cell_type": "code",
   "execution_count": null,
   "metadata": {},
   "outputs": [],
   "source": [
    "import YB_Pcb_Car  #Import Yahboom library\n",
    "\n",
    "car = YB_Pcb_Car.YB_Pcb_Car()\n",
    "car.Ctrl_Servo(1,93)\n",
    "car.Ctrl_Servo(2,160)"
   ]
  },
  {
   "cell_type": "markdown",
   "metadata": {},
   "source": [
    "##### Autopilot"
   ]
  },
  {
   "cell_type": "code",
   "execution_count": null,
   "metadata": {},
   "outputs": [],
   "source": [
    "\n",
    "TurnZ_PID_slider = widgets.FloatSlider(description='TurnZ_PID', min=-100, max=100.0, step=0.01, orientation='Vertical')\n",
    "# create a horizontal box container to place the sliders next to eachother\n",
    "slider_container = widgets.HBox([TurnZ_PID_slider])\n",
    "# display the container in this cell's output\n",
    "display(slider_container)"
   ]
  },
  {
   "cell_type": "code",
   "execution_count": null,
   "metadata": {},
   "outputs": [],
   "source": [
    "\n",
    "import enum\n",
    "import cv2\n",
    "\n",
    "def bgr8_to_jpeg(value, quality=75):\n",
    "    return bytes(cv2.imencode('.jpg', value)[1])"
   ]
  },
  {
   "cell_type": "code",
   "execution_count": null,
   "metadata": {},
   "outputs": [],
   "source": [
    "\n",
    "import cv2\n",
    "import ipywidgets.widgets as widgets\n",
    "import threading\n",
    "import time\n",
    "import numpy as np\n",
    "import matplotlib.pyplot as plt\n",
    "import PID\n",
    "\n",
    "image_widget = widgets.Image(format='jpg', width=320, height=240)\n",
    "display(image_widget)"
   ]
  },
  {
   "cell_type": "code",
   "execution_count": null,
   "metadata": {},
   "outputs": [],
   "source": [
    "\n",
    "image_widget_1 = widgets.Image(format='jpg', width=320, height=240)\n",
    "display(image_widget_1)"
   ]
  },
  {
   "cell_type": "code",
   "execution_count": null,
   "metadata": {},
   "outputs": [],
   "source": [
    "#Normalized map + left line (light green) image center line (purple) actual center line (blue) right line (green)\n",
    "image_widget_2 = widgets.Image(format='jpg', width=320, height=240)\n",
    "display(image_widget_2)"
   ]
  },
  {
   "cell_type": "code",
   "execution_count": null,
   "metadata": {
    "scrolled": true
   },
   "outputs": [],
   "source": [
    "image = cv2.VideoCapture(0)\n",
    "image.set(3,640)\n",
    "image.set(4,480)\n",
    "image.set(5, 30)  #set frame\n",
    "# fourcc = cv2.VideoWriter_fourcc(*\"MPEG\")\n",
    "image.set(cv2.CAP_PROP_FOURCC, cv2.VideoWriter.fourcc('M', 'J', 'P', 'G'))\n",
    "image.set(cv2.CAP_PROP_BRIGHTNESS, 60) \n",
    "#image.set(cv2.CAP_PROP_CONTRAST, 50) \n",
    "#image.set(cv2.CAP_PROP_EXPOSURE, 156) \n",
    "#ret, frame = image.read()\n",
    "#image_widget.value = bgr8_to_jpeg(frame)"
   ]
  },
  {
   "cell_type": "markdown",
   "metadata": {},
   "source": [
    "# Start Autopilot"
   ]
  },
  {
   "cell_type": "code",
   "execution_count": null,
   "metadata": {},
   "outputs": [],
   "source": [
    "global Z_axis_pid\n",
    "Z_axis_pid = PID.PositionalPID(0.5, 0, 1)  #1.2 0 0.1   \n",
    "global prev_left\n",
    "prev_left = 0\n",
    "global prev_right\n",
    "prev_right = 0"
   ]
  },
  {
   "cell_type": "code",
   "execution_count": null,
   "metadata": {
    "scrolled": true
   },
   "outputs": [],
   "source": [
    "def Camera_display():\n",
    "    global peaks_count\n",
    "    global prev_left, prev_right\n",
    "    t_start = time.time()\n",
    "    fps = 0\n",
    "    global Z_axis_pid\n",
    "    \n",
    "    while 1:\n",
    "\n",
    "        ret, frame = image.read()\n",
    "        \n",
    "\n",
    "        fps = fps + 1\n",
    "        mfps = fps / (time.time() - t_start)\n",
    "        cv2.putText(frame, \"FPS: \" + str(int(mfps)), (80,80), cv2.FONT_HERSHEY_SIMPLEX, 3.0, (0,255,255), 8)\n",
    "        \n",
    "\n",
    "        frame = cv2.resize(frame,(320,240))\n",
    "        \n",
    "        \n",
    "        matSrc = np.float32([[0, 149],  [320, 149], [281, 72], [43, 72]])\n",
    "        matDst = np.float32([[0,240], [320,240], [320,0], [0,0]])\n",
    "        matAffine = cv2.getPerspectiveTransform(matSrc,matDst)# mat 1 src 2 dst\n",
    "        dst = cv2.warpPerspective(frame,matAffine,(320,240))\n",
    "        \n",
    "\n",
    "        pts = np.array([[0, 149],  [320, 149], [281, 72], [43, 72]], np.int32)\n",
    "      \n",
    "        pts = pts.reshape((-1, 1, 2))\n",
    "        cv2.polylines(frame, [pts],True, (255, 0, 0), 3) \n",
    "\n",
    "        dst_gray = cv2.cvtColor(dst, cv2.COLOR_RGB2GRAY)   \n",
    "        dst_retval, dst_binaryzation = cv2.threshold(dst_gray, 120, 255, cv2.THRESH_BINARY)   \n",
    "        dst_binaryzation = cv2.erode(dst_binaryzation, None, iterations=1)                \n",
    "        \n",
    " \n",
    "        histogram = np.sum(dst_binaryzation[dst_binaryzation.shape[0]//2:, :], axis=0)  \n",
    "        midpoint = np.int(histogram.shape[0]/2) \n",
    "        \n",
    "        left_sum = np.sum(histogram[:20], axis=0)  \n",
    "        right_sum = np.sum(histogram[300:], axis=0)  \n",
    "        \n",
    "        #print(\"left_sum =%d \"%left_sum)\n",
    "        #print(\"right_sum = %d\"%right_sum)\n",
    "        \n",
    "        \n",
    "        rightpoint = 320\n",
    "        center_r = 159\n",
    "        #print (histogram)\n",
    "        #print(histogram[::-1])\n",
    "        #plt.plot(histogram)\n",
    "        #plt.plot(histogram[::-1])\n",
    "        #plt.show()\n",
    "\n",
    "        leftx_base = np.argmin(histogram[:rightpoint], axis = 0)\n",
    "        rightx_base = np.argmin(histogram[::-1][:rightpoint], axis = 0) \n",
    "        rightx_base = 319 - rightx_base\n",
    "\n",
    "        dst_binaryzation = cv2.cvtColor(dst_binaryzation,cv2.COLOR_GRAY2RGB)\n",
    "        cv2.line(dst_binaryzation,(159,0),(159,240),(255,0,255),2)  \n",
    "        lane_center = int((leftx_base + rightx_base)/2)  \n",
    "        #print(\"lane_center\")\n",
    "        #print(lane_center)\n",
    "        cv2.line(dst_binaryzation,(leftx_base,0),(leftx_base,240),(0,255,0),2)   \n",
    "        cv2.line(dst_binaryzation,(rightx_base,0),(rightx_base,240),(0,255,0),2) \n",
    "        cv2.line(dst_binaryzation,(lane_center,0),(lane_center,240),(255,0,0),2) \n",
    "        \n",
    "        left_sum_value = int(np.sum(histogram[:center_r], axis = 0))/159\n",
    "        right_sum_value = int(np.sum(histogram[center_r:], axis = 0))/159\n",
    "        #print(\"left_sum_value = %d\", left_sum_value)\n",
    "        #print(\"right_sum_value = %d\", right_sum_value)\n",
    "\n",
    "        Bias = 159 - lane_center\n",
    "        cv2.putText(dst_binaryzation, \"FPS:  \" + str(int(mfps)), (10,15), cv2.FONT_HERSHEY_SIMPLEX, 0.5, (0,255,255), 1)\n",
    "        cv2.putText(dst_binaryzation, \"Bias: \" + str(int(Bias)), (10,35), cv2.FONT_HERSHEY_SIMPLEX, 0.5, (0,255,255), 1)\n",
    "        #print(Bias)\n",
    "        \n",
    "\n",
    "        Z_axis_pid.SystemOutput = Bias\n",
    "        Z_axis_pid.SetStepSignal(0)\n",
    "        Z_axis_pid.SetInertiaTime(0.5, 0.2)\n",
    "        \n",
    "        \n",
    "        if Z_axis_pid.SystemOutput > 25: # 20\n",
    "            Z_axis_pid.SystemOutput = 25\n",
    "        elif Z_axis_pid.SystemOutput < -25:\n",
    "            Z_axis_pid.SystemOutput = -25\n",
    "            \n",
    "        TurnZ_PID_slider.value = int(Z_axis_pid.SystemOutput)\n",
    "        \n",
    "       \n",
    "        if leftx_base == 0 and rightx_base == 319:\n",
    "            if prev_left > prev_right:\n",
    "                car.Control_Car(-70, 60)\n",
    "            elif prev_left < prev_right:\n",
    "                car.Control_Car(70, -70)\n",
    "                \n",
    "            prev_left = 0\n",
    "            prev_right = 0\n",
    "            \n",
    "        else:\n",
    "            if Bias > 3:   \n",
    "                #prev_left = 1\n",
    "                #prev_right = 0\n",
    "                if Bias > 140: \n",
    "                    car.Control_Car(-70, 60)\n",
    "                    prev_left = 0\n",
    "                    prev_right = 0\n",
    "                else:\n",
    "                    car.Control_Car(45+int(Z_axis_pid.SystemOutput), 45-int(Z_axis_pid.SystemOutput))\n",
    "                time.sleep(0.001) \n",
    "            elif Bias < -3:    \n",
    "                #prev_right = 1\n",
    "                #prev_left = 0\n",
    "                if Bias < -140:   \n",
    "                    car.Control_Car(60, -70)\n",
    "                    prev_left = 0\n",
    "                    prev_right = 0\n",
    "                else:\n",
    "                    car.Control_Car(45+int(Z_axis_pid.SystemOutput), 45-int(Z_axis_pid.SystemOutput))\n",
    "                time.sleep(0.001)\n",
    "\n",
    "            else:\n",
    "                car.Car_Run(45, 45)\n",
    "     \n",
    "        \n",
    "\n",
    "\n",
    "        if left_sum != right_sum:\n",
    "            if left_sum < right_sum:\n",
    "                prev_left = prev_left + 1\n",
    "            elif right_sum < left_sum:\n",
    "                prev_right = prev_right + 1\n",
    "\n",
    "        \n",
    "\n",
    "        image_widget.value = bgr8_to_jpeg(frame)\n",
    "        image_widget_1.value = bgr8_to_jpeg(dst)\n",
    "        image_widget_2.value = bgr8_to_jpeg(dst_binaryzation)\n"
   ]
  },
  {
   "cell_type": "code",
   "execution_count": null,
   "metadata": {
    "scrolled": true
   },
   "outputs": [],
   "source": [
    "\n",
    "thread3 = threading.Thread(target=Camera_display)\n",
    "thread3.setDaemon(True)\n",
    "thread3.start()"
   ]
  },
  {
   "cell_type": "code",
   "execution_count": null,
   "metadata": {},
   "outputs": [],
   "source": [
    "\n",
    "stop_thread(thread3)\n",
    "car.Car_Stop()"
   ]
  },
  {
   "cell_type": "code",
   "execution_count": null,
   "metadata": {},
   "outputs": [],
   "source": [
    "image.release()"
   ]
  },
  {
   "cell_type": "code",
   "execution_count": null,
   "metadata": {},
   "outputs": [],
   "source": []
  },
  {
   "cell_type": "code",
   "execution_count": null,
   "metadata": {},
   "outputs": [],
   "source": []
  },
  {
   "cell_type": "code",
   "execution_count": null,
   "metadata": {},
   "outputs": [],
   "source": []
  },
  {
   "cell_type": "code",
   "execution_count": null,
   "metadata": {},
   "outputs": [],
   "source": []
  },
  {
   "cell_type": "code",
   "execution_count": null,
   "metadata": {},
   "outputs": [],
   "source": []
  },
  {
   "cell_type": "code",
   "execution_count": null,
   "metadata": {},
   "outputs": [],
   "source": []
  },
  {
   "cell_type": "code",
   "execution_count": null,
   "metadata": {},
   "outputs": [],
   "source": []
  }
 ],
 "metadata": {
  "kernelspec": {
   "display_name": "Python 3",
   "language": "python",
   "name": "python3"
  },
  "language_info": {
   "codemirror_mode": {
    "name": "ipython",
    "version": 3
   },
   "file_extension": ".py",
   "mimetype": "text/x-python",
   "name": "python",
   "nbconvert_exporter": "python",
   "pygments_lexer": "ipython3",
   "version": "3.7.3"
  }
 },
 "nbformat": 4,
 "nbformat_minor": 4
}
