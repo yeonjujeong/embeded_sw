{
 "cells": [
  {
   "cell_type": "markdown",
   "metadata": {},
   "source": [
    "<center><img src=\"../../logo.png\" alt=\"Header\" style=\"width: 800px;\"/></center>"
   ]
  },
  {
   "cell_type": "markdown",
   "metadata": {},
   "source": [
    "@Copyright (C): 2010-2022, Shenzhen Yahboom Tech  \n",
    "@Author: Liusen  \n",
    "@Date: 2020-02-12 10:10:02  \n",
    "@LastEditors:  xiaozhen   \n",
    "@LastEditTime: 2020-09-29 16:40:19  "
   ]
  },
  {
   "cell_type": "code",
   "execution_count": null,
   "metadata": {},
   "outputs": [],
   "source": [
    "import enum\n",
    "import cv2\n",
    "\n",
    "def bgr8_to_jpeg(value, quality=75):\n",
    "    return bytes(cv2.imencode('.jpg', value)[1])"
   ]
  },
  {
   "cell_type": "markdown",
   "metadata": {},
   "source": [
    "## Import relevant library files and create camera instances"
   ]
  },
  {
   "cell_type": "code",
   "execution_count": null,
   "metadata": {},
   "outputs": [],
   "source": [
    "import cv2\n",
    "import ipywidgets.widgets as widgets\n",
    "import threading\n",
    "import time\n",
    "import sys\n",
    "import math\n",
    "\n",
    "image_widget = widgets.Image(format='jpeg', width=320, height=240)\n",
    "display(image_widget)\n"
   ]
  },
  {
   "cell_type": "markdown",
   "metadata": {},
   "source": [
    "## Create related control variables"
   ]
  },
  {
   "cell_type": "code",
   "execution_count": null,
   "metadata": {},
   "outputs": [],
   "source": [
    "global face_x, face_y, face_w, face_h\n",
    "face_x = face_y = face_w = face_h = 0\n",
    "global target_valuex\n",
    "target_valuex = 2048\n",
    "global target_valuey\n",
    "target_valuey = 2048"
   ]
  },
  {
   "cell_type": "markdown",
   "metadata": {},
   "source": [
    "## Create PID control instance"
   ]
  },
  {
   "cell_type": "code",
   "execution_count": null,
   "metadata": {},
   "outputs": [],
   "source": [
    "import PID\n",
    "xservo_pid = PID.PositionalPID(1.1, 0.2, 0.8)\n",
    "yservo_pid = PID.PositionalPID(0.8, 0.2, 0.8)\n"
   ]
  },
  {
   "cell_type": "markdown",
   "metadata": {},
   "source": [
    "# Import Raspbot library"
   ]
  },
  {
   "cell_type": "code",
   "execution_count": null,
   "metadata": {},
   "outputs": [],
   "source": [
    "import YB_Pcb_Car\n",
    "car = YB_Pcb_Car.YB_Pcb_Car()\n",
    "car.Ctrl_Servo(1,90)\n",
    "car.Ctrl_Servo(2,90)"
   ]
  },
  {
   "cell_type": "markdown",
   "metadata": {},
   "source": [
    "## Load \"Haar\"\" cascade Classifier"
   ]
  },
  {
   "cell_type": "code",
   "execution_count": null,
   "metadata": {},
   "outputs": [],
   "source": [
    "import cv2\n",
    "face_haar = cv2.CascadeClassifier('123.xml')"
   ]
  },
  {
   "cell_type": "markdown",
   "metadata": {},
   "source": [
    "#  Open camera"
   ]
  },
  {
   "cell_type": "code",
   "execution_count": null,
   "metadata": {},
   "outputs": [],
   "source": [
    "image = cv2.VideoCapture(0)\n",
    "image.set(3,320)\n",
    "image.set(4,240)\n",
    "image.set(cv2.CAP_PROP_FOURCC, cv2.VideoWriter.fourcc('M', 'J', 'P', 'G'))\n",
    "image.set(cv2.CAP_PROP_BRIGHTNESS, 62)\n",
    "image.set(cv2.CAP_PROP_CONTRAST, 63)\n",
    "image.set(cv2.CAP_PROP_EXPOSURE, 4800) "
   ]
  },
  {
   "cell_type": "markdown",
   "metadata": {},
   "source": [
    "## Main process"
   ]
  },
  {
   "cell_type": "markdown",
   "metadata": {},
   "source": [
    "#### No dead zone, Good real-time performance, the servo will always work"
   ]
  },
  {
   "cell_type": "code",
   "execution_count": null,
   "metadata": {},
   "outputs": [],
   "source": [
    "while 1:\n",
    "    ret, frame = image.read()\n",
    "\n",
    "    gray_img = cv2.cvtColor(frame, cv2.COLOR_BGR2GRAY)\n",
    "    faces = face_haar.detectMultiScale(gray_img, 1.1, 3)\n",
    "    \n",
    "    #xservo_pid = PID.PositionalPID(XServo_P.value, XServo_I.value, XServo_D.value)\n",
    "    #yservo_pid = PID.PositionalPID(YServo_P.value, YServo_I.value, YServo_D.value)\n",
    "\n",
    "    if len(faces) > 0:\n",
    "\n",
    "        (face_x, face_y, face_w, face_h) = faces[0]\n",
    "        # cv2.rectangle(frame,(face_x+10,face_y),(face_x+face_w-10,face_y+face_h+20),(0,255,0),2)\n",
    "        cv2.rectangle(frame,(face_x,face_y),(face_x+face_w,face_y+face_h),(0,255,0),2)\n",
    "            \n",
    "        #Proportion-Integration-Differentiation\n",
    "\n",
    "        xservo_pid.SystemOutput = face_x + face_w/2\n",
    "        xservo_pid.SetStepSignal(150)\n",
    "        xservo_pid.SetInertiaTime(0.01, 0.1)\n",
    "        target_valuex = int(1500 + xservo_pid.SystemOutput)\n",
    "        target_servox = int((target_valuex-500)/10)\n",
    "\n",
    "        if target_servox > 180:\n",
    "            target_servox = 180\n",
    "        if target_servox < 0:\n",
    "            target_servox = 0        \n",
    "\n",
    "        yservo_pid.SystemOutput = face_y + face_h/2\n",
    "        yservo_pid.SetStepSignal(120)\n",
    "        yservo_pid.SetInertiaTime(0.01, 0.1)\n",
    "        target_valuey = int(1500 - yservo_pid.SystemOutput)\n",
    "        target_servoy = int((target_valuey-500)/10)                        \n",
    "        #print(\"target_servoy %d\", target_servoy)  \n",
    "        if target_servoy > 180:\n",
    "            target_servoy = 180\n",
    "        if target_servoy < 0:\n",
    "            target_servoy = 0        \n",
    "\n",
    "        #robot.Servo_control(target_valuex,target_valuey)\n",
    "            \n",
    "        car.Ctrl_Servo(1, target_servox)\n",
    "\n",
    "        car.Ctrl_Servo(2, target_servoy)\n",
    "\n",
    "    try:\n",
    "        image_widget.value = bgr8_to_jpeg(frame)\n",
    "    except:\n",
    "        continue"
   ]
  },
  {
   "cell_type": "markdown",
   "metadata": {},
   "source": [
    "### With dead zone, the servo does not move within the dead zone"
   ]
  },
  {
   "cell_type": "code",
   "execution_count": null,
   "metadata": {},
   "outputs": [],
   "source": [
    "while 1:\n",
    "    ret, frame = image.read()\n",
    "\n",
    "    gray_img = cv2.cvtColor(frame, cv2.COLOR_BGR2GRAY)\n",
    "    faces = face_haar.detectMultiScale(gray_img, 1.1, 3)\n",
    "    \n",
    "    #xservo_pid = PID.PositionalPID(XServo_P.value, XServo_I.value, XServo_D.value)\n",
    "    #yservo_pid = PID.PositionalPID(YServo_P.value, YServo_I.value, YServo_D.value)\n",
    "\n",
    "    if len(faces) > 0:\n",
    "\n",
    "        (face_x, face_y, face_w, face_h) = faces[0]\n",
    "        # cv2.rectangle(frame,(face_x+10,face_y),(face_x+face_w-10,face_y+face_h+20),(0,255,0),2)\n",
    "        cv2.rectangle(frame,(face_x,face_y),(face_x+face_w,face_y+face_h),(0,255,0),2)\n",
    "            \n",
    "        if math.fabs(150 - (face_x + face_w/2)) > 10:\n",
    "            xservo_pid.SystemOutput = face_x + face_w/2\n",
    "            xservo_pid.SetStepSignal(150)\n",
    "            xservo_pid.SetInertiaTime(0.01, 0.1)\n",
    "            target_valuex = int(1500 + xservo_pid.SystemOutput)\n",
    "            target_servox = int((target_valuex-500)/10)\n",
    "\n",
    "            if target_servox > 180:\n",
    "                target_servox = 180\n",
    "            if target_servox < 0:\n",
    "                target_servox = 0\n",
    "            car.Ctrl_Servo(1, target_servox)    \n",
    "            \n",
    "        if math.fabs(150 - (face_y + face_h/2)) > 10:\n",
    "            yservo_pid.SystemOutput = face_y + face_h/2\n",
    "            yservo_pid.SetStepSignal(120)\n",
    "            yservo_pid.SetInertiaTime(0.01, 0.1)\n",
    "            target_valuey = int(1500 - yservo_pid.SystemOutput)\n",
    "            target_servoy = int((target_valuey-500)/10)                        \n",
    "            #print(\"target_servoy %d\", target_servoy)  \n",
    "            if target_servoy > 180:\n",
    "                target_servoy = 180\n",
    "            if target_servoy < 0:\n",
    "                target_servoy = 0        \n",
    "\n",
    "            car.Ctrl_Servo(2, target_servoy)\n",
    "\n",
    "    try:\n",
    "        image_widget.value = bgr8_to_jpeg(frame)\n",
    "    except:\n",
    "        continue"
   ]
  },
  {
   "cell_type": "markdown",
   "metadata": {},
   "source": []
  },
  {
   "cell_type": "code",
   "execution_count": null,
   "metadata": {},
   "outputs": [],
   "source": [
    "image.release()"
   ]
  },
  {
   "cell_type": "code",
   "execution_count": null,
   "metadata": {},
   "outputs": [],
   "source": []
  }
 ],
 "metadata": {
  "kernelspec": {
   "display_name": "Python 3",
   "language": "python",
   "name": "python3"
  },
  "language_info": {
   "codemirror_mode": {
    "name": "ipython",
    "version": 3
   },
   "file_extension": ".py",
   "mimetype": "text/x-python",
   "name": "python",
   "nbconvert_exporter": "python",
   "pygments_lexer": "ipython3",
   "version": "3.7.3"
  }
 },
 "nbformat": 4,
 "nbformat_minor": 4
}
