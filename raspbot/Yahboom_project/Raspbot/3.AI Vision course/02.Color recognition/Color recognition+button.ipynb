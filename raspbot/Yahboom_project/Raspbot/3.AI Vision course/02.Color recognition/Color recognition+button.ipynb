{
 "cells": [
  {
   "cell_type": "markdown",
   "metadata": {},
   "source": [
    "<center><img src=\"../logo.png\" alt=\"Header\" style=\"width: 800px;\"/></center>"
   ]
  },
  {
   "cell_type": "markdown",
   "metadata": {},
   "source": [
    "\n",
    "@Copyright (C): 2010-2020, Shenzhen Yahboom Tech  \n",
    "@Author: Liusen  \n",
    "@Date: 2020-02-04 17:20:02  \n",
    "@LastEditors: Liusen  \n",
    "@LastEditTime: 2020-09-30 18:50:02   "
   ]
  },
  {
   "cell_type": "code",
   "execution_count": null,
   "metadata": {},
   "outputs": [],
   "source": [
    "#bgr8  to jpe format\n",
    "import enum\n",
    "import cv2\n",
    "\n",
    "def bgr8_to_jpeg(value, quality=75):\n",
    "    return bytes(cv2.imencode('.jpg', value)[1])"
   ]
  },
  {
   "cell_type": "code",
   "execution_count": null,
   "metadata": {},
   "outputs": [],
   "source": [
    "import cv2\n",
    "import traitlets\n",
    "import ipywidgets.widgets as widgets\n",
    "from IPython.display import display\n",
    "import time\n",
    "\n",
    "import threading\n",
    "import inspect\n",
    "import ctypes"
   ]
  },
  {
   "cell_type": "markdown",
   "metadata": {},
   "source": [
    "##  Thread shutdown function"
   ]
  },
  {
   "cell_type": "code",
   "execution_count": null,
   "metadata": {},
   "outputs": [],
   "source": [
    "def _async_raise(tid, exctype):\n",
    "    \"\"\"raises the exception, performs cleanup if needed\"\"\"\n",
    "    tid = ctypes.c_long(tid)\n",
    "    if not inspect.isclass(exctype):\n",
    "        exctype = type(exctype)\n",
    "    res = ctypes.pythonapi.PyThreadState_SetAsyncExc(tid, ctypes.py_object(exctype))\n",
    "    if res == 0:\n",
    "        raise ValueError(\"invalid thread id\")\n",
    "    elif res != 1:\n",
    "        # \"\"\"if it returns a number greater than one, you're in trouble,\n",
    "        # and you should call it again with exc=NULL to revert the effect\"\"\"\n",
    "        ctypes.pythonapi.PyThreadState_SetAsyncExc(tid, None)\n",
    "        \n",
    "def stop_thread(thread):\n",
    "    _async_raise(thread.ident, SystemExit)"
   ]
  },
  {
   "cell_type": "markdown",
   "metadata": {},
   "source": [
    "## Create two display windows, one for the original image and the other for the mask position"
   ]
  },
  {
   "cell_type": "code",
   "execution_count": null,
   "metadata": {},
   "outputs": [],
   "source": [
    "image_widget = widgets.Image(format='jpeg', width=300, height=300)\n",
    "image_widget1 = widgets.Image(format='jpeg', width=300, height=300)\n",
    "display(image_widget)\n",
    "display(image_widget1)"
   ]
  },
  {
   "cell_type": "code",
   "execution_count": null,
   "metadata": {},
   "outputs": [],
   "source": [
    "image = cv2.VideoCapture(0)\n",
    "\n",
    "image.set(3, 320)\n",
    "image.set(4, 240)\n",
    "image.set(5, 30)  #set frame\n",
    "image.set(cv2.CAP_PROP_FOURCC, cv2.VideoWriter.fourcc('M', 'J', 'P', 'G'))\n",
    "image.set(cv2.CAP_PROP_BRIGHTNESS, 62) \n",
    "image.set(cv2.CAP_PROP_CONTRAST, 63) \n",
    "image.set(cv2.CAP_PROP_EXPOSURE, 4800) \n",
    "\n",
    "ret, frame = image.read()\n",
    "image_widget.value = bgr8_to_jpeg(frame)"
   ]
  },
  {
   "cell_type": "markdown",
   "metadata": {},
   "source": [
    "### The next part is divided into two parts, the first part is to test the appropriate HSV value.\n",
    "### The second one is for color recognition by testing the appropriate HSV value.\n",
    "### Because both processes use video streams, after running the first part, you need to close the corresponding thread, and then run the second part."
   ]
  },
  {
   "cell_type": "markdown",
   "metadata": {},
   "source": [
    "## Part I"
   ]
  },
  {
   "cell_type": "code",
   "execution_count": null,
   "metadata": {},
   "outputs": [],
   "source": [
    "Hmin = widgets.FloatSlider(description='Hmin', min=0, max=180, step=1, orientation='Vertical')\n",
    "Hmax = widgets.FloatSlider(description='Hmax', min=0, max=179, step=1, orientation='Vertical')\n",
    "Smin = widgets.FloatSlider(description='Smin', min=0, max=255, step=1, orientation='Vertical')\n",
    "Smax = widgets.FloatSlider(description='Smax', min=0, max=255, step=1, orientation='Vertical')\n",
    "Vmin = widgets.FloatSlider(description='Vmin', min=0, max=255, step=1, orientation='Vertical')\n",
    "Vmax = widgets.FloatSlider(description='Vmax', min=0, max=255, step=1, orientation='Vertical')\n",
    "# create a horizontal box container to place the sliders next to eachother\n",
    "slider_container = widgets.HBox([Hmin,Hmax,Smin,Smax,Vmin,Vmax])\n",
    "# display the container in this cell's output\n",
    "display(slider_container)\n",
    "import numpy as np"
   ]
  },
  {
   "cell_type": "code",
   "execution_count": null,
   "metadata": {},
   "outputs": [],
   "source": [
    "color_hsv  = {\"red\"   : ((0, 70, 72), (7, 255, 255)),\n",
    "              \"green\" : ((54, 109, 78), (77, 255, 255)),\n",
    "              \"blue\"  : ((92, 100, 62), (121, 251, 255)),\n",
    "              \"yellow\": ((26, 100, 91), (32, 255, 255))}"
   ]
  },
  {
   "cell_type": "code",
   "execution_count": null,
   "metadata": {},
   "outputs": [],
   "source": [
    "color = \"red\"\n",
    "Hmin.value=color_hsv[color][0][0]\n",
    "Smin.value=color_hsv[color][0][1]\n",
    "Vmin.value=color_hsv[color][0][2]\n",
    "Hmax.value=color_hsv[color][1][0]\n",
    "Smax.value=color_hsv[color][1][1]\n",
    "Vmax.value=color_hsv[color][1][2]"
   ]
  },
  {
   "cell_type": "code",
   "execution_count": null,
   "metadata": {},
   "outputs": [],
   "source": [
    "def TEST():\n",
    "    while True:\n",
    "        ret, frame = image.read()\n",
    "        color_lower = np.array([int(Hmin.value),int(Smin.value),int(Vmin.value)])\n",
    "        color_upper = np.array([int(Hmax.value), int(Smax.value), int(Vmax.value)])\n",
    "        #frame = cv2.resize(frame, (400, 400))\n",
    "        frame_ = cv2.GaussianBlur(frame,(5,5),0)                    \n",
    "        hsv = cv2.cvtColor(frame,cv2.COLOR_BGR2HSV)\n",
    "        mask = cv2.inRange(hsv,color_lower,color_upper)  \n",
    "        mask = cv2.erode(mask,None,iterations=2)\n",
    "        mask = cv2.dilate(mask,None,iterations=2)\n",
    "        mask = cv2.GaussianBlur(mask,(3,3),0)     \n",
    "        cnts = cv2.findContours(mask.copy(),cv2.RETR_EXTERNAL,cv2.CHAIN_APPROX_SIMPLE)[-2] \n",
    "        if 1: # Push button switch\n",
    "            if len(cnts) > 0:\n",
    "                cnt = max (cnts, key = cv2.contourArea)\n",
    "                (color_x,color_y),color_radius = cv2.minEnclosingCircle(cnt)\n",
    "                if color_radius > 10:\n",
    "                # Mark the detected color with the original shape coil\n",
    "                    cv2.circle(frame,(int(color_x),int(color_y)),int(color_radius),(255,0,255),2)  \n",
    "                    # Proportion-Integration-Differentiation\n",
    "\n",
    "        image_widget.value = bgr8_to_jpeg(frame)\n",
    "        image_widget1.value = bgr8_to_jpeg(mask)\n",
    "        # print(g_mode)"
   ]
  },
  {
   "cell_type": "code",
   "execution_count": null,
   "metadata": {},
   "outputs": [],
   "source": [
    "thread1 = threading.Thread(target=TEST)\n",
    "thread1.setDaemon(True)\n",
    "thread1.start()"
   ]
  },
  {
   "cell_type": "code",
   "execution_count": null,
   "metadata": {},
   "outputs": [],
   "source": [
    "stop_thread(thread1)"
   ]
  },
  {
   "cell_type": "markdown",
   "metadata": {},
   "source": [
    "## Part II"
   ]
  },
  {
   "cell_type": "markdown",
   "metadata": {},
   "source": [
    "## Create an array to store red HSV color area data"
   ]
  },
  {
   "cell_type": "code",
   "execution_count": null,
   "metadata": {},
   "outputs": [],
   "source": [
    "global g_mode\n",
    "g_mode = 0"
   ]
  },
  {
   "cell_type": "code",
   "execution_count": null,
   "metadata": {},
   "outputs": [],
   "source": [
    "import numpy as np\n",
    "global color_lower\n",
    "color_lower = np.array([0, 43, 46])\n",
    "global color_upper\n",
    "color_upper = np.array([10, 255, 255])"
   ]
  },
  {
   "cell_type": "code",
   "execution_count": null,
   "metadata": {},
   "outputs": [],
   "source": [
    "Redbutton = widgets.Button(     \n",
    "    value=False,     \n",
    "    description='Red',     \n",
    "    disabled=False,     \n",
    "    button_style='', # 'success', 'info', 'warning', 'danger' or ''     \n",
    "    tooltip='Description',     \n",
    "    icon='uncheck' )\n",
    "Greenbutton = widgets.Button(     \n",
    "    value=False,     \n",
    "    description='Green',     \n",
    "    disabled=False,     \n",
    "    button_style='', # 'success', 'info', 'warning', 'danger' or ''     \n",
    "    tooltip='Description',     \n",
    "    icon='uncheck' )\n",
    "Bluebutton = widgets.Button(     \n",
    "    value=False,     \n",
    "    description='Blue',     \n",
    "    disabled=False,     \n",
    "    button_style='', # 'success', 'info', 'warning', 'danger' or ''     \n",
    "    tooltip='Description',     \n",
    "    icon='uncheck' )\n",
    "Yellowbutton = widgets.Button(     \n",
    "    value=False,     \n",
    "    description='Yellow',     \n",
    "    disabled=False,     \n",
    "    button_style='', # 'success', 'info', 'warning', 'danger' or ''     \n",
    "    tooltip='Description',     \n",
    "    icon='uncheck' )\n",
    "Orangebutton = widgets.Button(     \n",
    "    value=False,     \n",
    "    description='Orange',     \n",
    "    disabled=False,     \n",
    "    button_style='', # 'success', 'info', 'warning', 'danger' or ''     \n",
    "    tooltip='Description',     \n",
    "    icon='uncheck' )\n",
    "Closebutton = widgets.Button(     \n",
    "    value=False,     \n",
    "    description='Close',     \n",
    "    disabled=False,     \n",
    "    button_style='', # 'success', 'info', 'warning', 'danger' or ''     \n",
    "    tooltip='Description',     \n",
    "    icon='uncheck' )\n",
    "output = widgets.Output()\n",
    "display(Redbutton, Greenbutton, Bluebutton, Yellowbutton, Orangebutton, Closebutton, output)\n",
    "\n",
    "def ALL_Uncheck():\n",
    "    Redbutton.icon = 'uncheck'\n",
    "    Greenbutton.icon = 'uncheck'\n",
    "    Bluebutton.icon = 'uncheck'\n",
    "    Yellowbutton.icon = 'uncheck'\n",
    "    Orangebutton.icon = 'uncheck'\n",
    "    \n",
    "def on_Redbutton_clicked(b):\n",
    "    global color_lower, color_upper, g_mode \n",
    "    global target_valuex, target_valuey\n",
    "    ALL_Uncheck()\n",
    "    b.icon = 'check'\n",
    "    #color_lower = np.array([0, 43, 46])\n",
    "    #color_upper = np.array([10, 255, 255])\n",
    "    color_lower = np.array([0,43,89])\n",
    "    color_upper = np.array([7, 255, 255])\n",
    "    g_mode = 1\n",
    "    with output:\n",
    "        print(\"RedButton clicked.\")\n",
    "\n",
    "def on_Greenbutton_clicked(b):\n",
    "    global color_lower, color_upper, g_mode \n",
    "    global target_valuex, target_valuey\n",
    "    ALL_Uncheck()\n",
    "    b.icon = 'check'\n",
    "    #color_lower = np.array([35, 43, 46])\n",
    "    #color_upper = np.array([77, 255, 255])\n",
    "    color_lower = np.array([54,104,64])\n",
    "    color_upper = np.array([78, 255, 255])\n",
    "    g_mode = 1\n",
    "    with output:\n",
    "        print(\"GreenButton clicked.\")\n",
    "        \n",
    "def on_Bluebutton_clicked(b):\n",
    "    global color_lower, color_upper, g_mode \n",
    "    global target_valuex, target_valuey\n",
    "    ALL_Uncheck()\n",
    "    b.icon = 'check'\n",
    "    #color_lower=np.array([100, 43, 46])\n",
    "    #color_upper = np.array([124, 255, 255])\n",
    "    color_lower = np.array([92,100,62])\n",
    "    color_upper = np.array([121, 255, 255])\n",
    "    g_mode = 1\n",
    "    with output:\n",
    "        print(\"Bluebutton clicked.\")   \n",
    "\n",
    "def on_Yellowbutton_clicked(b):\n",
    "    global color_lower, color_upper, g_mode \n",
    "    global target_valuex, target_valuey\n",
    "    ALL_Uncheck()\n",
    "    b.icon = 'check'\n",
    "    #color_lower = np.array([26, 43, 46])\n",
    "    #color_upper = np.array([34, 255, 255])\n",
    "    color_lower = np.array([26,100,91])\n",
    "    color_upper = np.array([32, 255, 255])\n",
    "    g_mode = 1\n",
    "    with output:\n",
    "        print(\"Yellowbutton clicked.\")\n",
    "        \n",
    "def on_Orangebutton_clicked(b):\n",
    "    global color_lower, color_upper, g_mode \n",
    "    global target_valuex, target_valuey\n",
    "    ALL_Uncheck()\n",
    "    b.icon = 'check'\n",
    "    color_lower = np.array([11, 43, 46])\n",
    "    color_upper = np.array([25, 255, 255])\n",
    "    g_mode = 1\n",
    "    with output:\n",
    "        print(\"Orangebutton clicked.\")\n",
    "        \n",
    "def on_Closebutton_clicked(b):  \n",
    "    global g_mode \n",
    "    \n",
    "    ALL_Uncheck()\n",
    "    g_mode = 0\n",
    "    with output:\n",
    "        print(\"CloseButton clicked.\")\n",
    "\n",
    "Redbutton.on_click(on_Redbutton_clicked)\n",
    "Greenbutton.on_click(on_Greenbutton_clicked)\n",
    "Bluebutton.on_click(on_Bluebutton_clicked)\n",
    "Yellowbutton.on_click(on_Yellowbutton_clicked)\n",
    "Orangebutton.on_click(on_Orangebutton_clicked)\n",
    "Closebutton.on_click(on_Closebutton_clicked)"
   ]
  },
  {
   "cell_type": "markdown",
   "metadata": {},
   "source": [
    "##  Color recognition main function"
   ]
  },
  {
   "cell_type": "code",
   "execution_count": null,
   "metadata": {},
   "outputs": [],
   "source": [
    "def Color_Recongnize():\n",
    "    global color_lower, color_upper, g_mode \n",
    "    t_start = time.time()\n",
    "    fps = 0\n",
    "    while True:\n",
    "        ret, frame = image.read()\n",
    "        #frame = cv2.resize(frame, (400, 400))\n",
    "        frame_ = cv2.GaussianBlur(frame,(5,5),0)                    \n",
    "        hsv = cv2.cvtColor(frame,cv2.COLOR_BGR2HSV)\n",
    "        mask = cv2.inRange(hsv,color_lower,color_upper)  \n",
    "        mask = cv2.erode(mask,None,iterations=2)\n",
    "        mask = cv2.dilate(mask,None,iterations=2)\n",
    "        mask = cv2.GaussianBlur(mask,(3,3),0)     \n",
    "        cnts = cv2.findContours(mask.copy(),cv2.RETR_EXTERNAL,cv2.CHAIN_APPROX_SIMPLE)[-2] \n",
    "        if g_mode == 1: # Push button switch\n",
    "            if len(cnts) > 0:\n",
    "                cnt = max (cnts, key = cv2.contourArea)\n",
    "                (color_x,color_y),color_radius = cv2.minEnclosingCircle(cnt)\n",
    "                if color_radius > 10:\n",
    "                # Mark the detected color with the original shape coil\n",
    "                    cv2.circle(frame,(int(color_x),int(color_y)),int(color_radius),(255,0,255),2)  \n",
    "                    # Proportion-Integration-Differentiation\n",
    "        fps = fps + 1\n",
    "        mfps = fps / (time.time() - t_start)\n",
    "        cv2.putText(frame, \"FPS \" + str(int(mfps)), (40,40), cv2.FONT_HERSHEY_SIMPLEX, 0.8, (0,255,255), 3)\n",
    "\n",
    "        image_widget.value = bgr8_to_jpeg(frame)\n",
    "        image_widget1.value = bgr8_to_jpeg(mask)\n",
    "        # print(g_mode)\n"
   ]
  },
  {
   "cell_type": "markdown",
   "metadata": {},
   "source": [
    "##  启动进程"
   ]
  },
  {
   "cell_type": "code",
   "execution_count": null,
   "metadata": {},
   "outputs": [],
   "source": [
    "thread1 = threading.Thread(target=Color_Recongnize)\n",
    "thread1.setDaemon(True)\n",
    "thread1.start()"
   ]
  },
  {
   "cell_type": "markdown",
   "metadata": {},
   "source": [
    "##  关闭进程"
   ]
  },
  {
   "cell_type": "code",
   "execution_count": null,
   "metadata": {},
   "outputs": [],
   "source": [
    "stop_thread(thread1)\n"
   ]
  },
  {
   "cell_type": "code",
   "execution_count": null,
   "metadata": {},
   "outputs": [],
   "source": [
    "image.release()              #Release the object after use, otherwise when the next program needs to use the object, it will be unusable because it is occupied"
   ]
  },
  {
   "cell_type": "markdown",
   "metadata": {},
   "source": []
  }
 ],
 "metadata": {
  "kernelspec": {
   "display_name": "Python 3",
   "language": "python",
   "name": "python3"
  },
  "language_info": {
   "codemirror_mode": {
    "name": "ipython",
    "version": 3
   },
   "file_extension": ".py",
   "mimetype": "text/x-python",
   "name": "python",
   "nbconvert_exporter": "python",
   "pygments_lexer": "ipython3",
   "version": "3.7.3"
  }
 },
 "nbformat": 4,
 "nbformat_minor": 4
}
