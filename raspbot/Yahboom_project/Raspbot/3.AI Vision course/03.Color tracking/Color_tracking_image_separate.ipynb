{
 "cells": [
  {
   "cell_type": "markdown",
   "metadata": {},
   "source": [
    "<center><img src=\"../logo.png\" alt=\"Header\" style=\"width: 800px;\"/></center>"
   ]
  },
  {
   "cell_type": "markdown",
   "metadata": {},
   "source": [
    "\n",
    "@Copyright (C): 2010-2020, Shenzhen Yahboom Tech  \n",
    "@Author: Liusen  \n",
    "@Date: 2020-02-04 17:20:02  \n",
    "@LastEditors: Liusen  \n",
    "@LastEditTime: 2020-09-30 18:50:02   "
   ]
  },
  {
   "cell_type": "code",
   "execution_count": null,
   "metadata": {},
   "outputs": [],
   "source": [
    "import YB_Pcb_Car    #Import Yahboom library\n",
    "car = YB_Pcb_Car.YB_Pcb_Car()"
   ]
  },
  {
   "cell_type": "code",
   "execution_count": null,
   "metadata": {},
   "outputs": [],
   "source": [
    "import enum\n",
    "import cv2\n",
    "\n",
    "def bgr8_to_jpeg(value, quality=75):\n",
    "    return bytes(cv2.imencode('.jpg', value)[1])"
   ]
  },
  {
   "cell_type": "code",
   "execution_count": null,
   "metadata": {},
   "outputs": [],
   "source": [
    "import numpy as np\n",
    "import math\n",
    "global picture\n",
    "picture = np.ones((240,320,3),dtype =np.uint8)*255"
   ]
  },
  {
   "cell_type": "code",
   "execution_count": null,
   "metadata": {},
   "outputs": [],
   "source": [
    "import cv2\n",
    "import traitlets\n",
    "import ipywidgets.widgets as widgets\n",
    "from IPython.display import display\n",
    "import time\n",
    "\n",
    "import threading\n",
    "import inspect\n",
    "import ctypes\n",
    "\n",
    "\n",
    "image_widget = widgets.Image(format='jpeg', width=320, height=240)\n",
    "display(image_widget)"
   ]
  },
  {
   "cell_type": "markdown",
   "metadata": {},
   "source": [
    "##  Close thread function"
   ]
  },
  {
   "cell_type": "code",
   "execution_count": null,
   "metadata": {},
   "outputs": [],
   "source": [
    "def _async_raise(tid, exctype):\n",
    "    \"\"\"raises the exception, performs cleanup if needed\"\"\"\n",
    "    tid = ctypes.c_long(tid)\n",
    "    if not inspect.isclass(exctype):\n",
    "        exctype = type(exctype)\n",
    "    res = ctypes.pythonapi.PyThreadState_SetAsyncExc(tid, ctypes.py_object(exctype))\n",
    "    if res == 0:\n",
    "        raise ValueError(\"invalid thread id\")\n",
    "    elif res != 1:\n",
    "        # \"\"\"if it returns a number greater than one, you're in trouble,\n",
    "        # and you should call it again with exc=NULL to revert the effect\"\"\"\n",
    "        ctypes.pythonapi.PyThreadState_SetAsyncExc(tid, None)\n",
    "        \n",
    "def stop_thread(thread):\n",
    "    _async_raise(thread.ident, SystemExit)"
   ]
  },
  {
   "cell_type": "code",
   "execution_count": null,
   "metadata": {},
   "outputs": [],
   "source": [
    "image = cv2.VideoCapture(0)\n",
    "\n",
    "image.set(3, 320)\n",
    "image.set(4, 240)\n",
    "image.set(5, 30)  #set frame\n",
    "image.set(cv2.CAP_PROP_FOURCC, cv2.VideoWriter.fourcc('M', 'J', 'P', 'G'))\n",
    "image.set(cv2.CAP_PROP_BRIGHTNESS, 62) \n",
    "image.set(cv2.CAP_PROP_CONTRAST, 63) \n",
    "image.set(cv2.CAP_PROP_EXPOSURE, 4800) \n",
    "ret, frame = image.read()\n",
    "image_widget.value = bgr8_to_jpeg(picture)"
   ]
  },
  {
   "cell_type": "code",
   "execution_count": null,
   "metadata": {},
   "outputs": [],
   "source": [
    "global g_mode\n",
    "g_mode = 0\n",
    "global color_x, color_y, color_radius\n",
    "color_x = color_y = color_radius = 0\n",
    "global target_valuex\n",
    "target_valuex = 1500\n",
    "global target_valuey\n",
    "target_valuey = 1500\n",
    "global g_mode\n",
    "g_mode = 0"
   ]
  },
  {
   "cell_type": "markdown",
   "metadata": {},
   "source": [
    "## Create an array to store red HSV color gamut data"
   ]
  },
  {
   "cell_type": "code",
   "execution_count": null,
   "metadata": {},
   "outputs": [],
   "source": [
    "import numpy as np\n",
    "global color_lower\n",
    "#color_lower = np.array([0, 43, 46])\n",
    "global color_upper\n",
    "#color_upper = np.array([10, 255, 255])\n",
    "\n",
    "color_lower = np.array([0,70,72])\n",
    "color_upper = np.array([7, 255, 255])"
   ]
  },
  {
   "cell_type": "code",
   "execution_count": null,
   "metadata": {},
   "outputs": [],
   "source": [
    "import PID\n",
    "\n",
    "xservo_pid = PID.PositionalPID(1.1, 0.2, 0.8)\n",
    "yservo_pid = PID.PositionalPID(0.8, 0.2, 0.8)\n"
   ]
  },
  {
   "cell_type": "code",
   "execution_count": null,
   "metadata": {},
   "outputs": [],
   "source": [
    "car.Ctrl_Servo(1,90)\n",
    "car.Ctrl_Servo(2,90)"
   ]
  },
  {
   "cell_type": "markdown",
   "metadata": {},
   "source": [
    "##  Color recognition main function"
   ]
  },
  {
   "cell_type": "code",
   "execution_count": null,
   "metadata": {},
   "outputs": [],
   "source": [
    "def Color_Recongnize():\n",
    "    global color_lower, color_upper, g_mode, first_read, while_cnt\n",
    "    global target_valuex, target_valuey, color_x, target_servox,picture\n",
    "    t_start = time.time()\n",
    "    fps = 0\n",
    "    ret, frame = image.read()\n",
    "    #frame = cv2.resize(frame, (300, 300))\n",
    "    frame = cv2.GaussianBlur(frame,(5,5),0) \n",
    "    first_read = 1\n",
    "    while_cnt = 0\n",
    "    time.sleep(1)\n",
    "    while True:\n",
    "        ret, frame = image.read()  \n",
    "        #frame = cv2.resize(frame, (300, 300))\n",
    "        #frame = cv2.GaussianBlur(frame,(3,3),0)  \n",
    "        hsv = cv2.cvtColor(frame,cv2.COLOR_BGR2HSV)\n",
    "        mask = cv2.inRange(hsv,color_lower,color_upper)   \n",
    "        mask = cv2.erode(mask,None,iterations=2)\n",
    "        mask = cv2.dilate(mask,None,iterations=2)\n",
    "        mask = cv2.GaussianBlur(mask,(5,5),0)\n",
    "        cnts = cv2.findContours(mask.copy(),cv2.RETR_EXTERNAL,cv2.CHAIN_APPROX_SIMPLE)[-2] \n",
    "        if len(cnts) > 0:\n",
    "            cnt = max (cnts, key = cv2.contourArea)\n",
    "            (color_x,color_y),color_radius = cv2.minEnclosingCircle(cnt)\n",
    "\n",
    "            if color_radius > 10:\n",
    "\n",
    "                cv2.circle(frame,(int(color_x),int(color_y)),int(color_radius),(255,0,255),2)  \n",
    "                xservo_pid.SystemOutput = color_x\n",
    "                xservo_pid.SetStepSignal(150)\n",
    "                xservo_pid.SetInertiaTime(0.01, 0.1)\n",
    "                target_valuex = int(1500+xservo_pid.SystemOutput)\n",
    "                target_servox = int((target_valuex-500)/10)\n",
    "                #print(\"color_x %f\", color_x)                         \n",
    "                #print(\"target_servox %d\", target_servox)   \n",
    "\n",
    "                if target_servox > 180:\n",
    "                    target_servox = 180\n",
    "                if target_servox < 0:\n",
    "                    target_servox = 0\n",
    "\n",
    "                yservo_pid.SystemOutput = color_y\n",
    "                yservo_pid.SetStepSignal(150)\n",
    "                yservo_pid.SetInertiaTime(0.01, 0.1)\n",
    "                target_valuey = int(1500-yservo_pid.SystemOutput)\n",
    "                target_servoy = int((target_valuey-500)/10)                        \n",
    "                #print(\"target_servoy %d\", target_servoy)  \n",
    "                if target_servoy > 180:\n",
    "                    target_servoy = 180\n",
    "                if target_servoy < 0:\n",
    "                    target_servoy = 0\n",
    "                #print(target_servoy)\n",
    "  \n",
    "                car.Ctrl_Servo(1,target_servox)\n",
    "                car.Ctrl_Servo(2,target_servoy)\n",
    "\n",
    "\n",
    "        fps = fps + 1\n",
    "        mfps = fps / (time.time() - t_start)\n",
    "        cv2.putText(frame, \"FPS \" + str(int(mfps)), (40,40), cv2.FONT_HERSHEY_SIMPLEX, 0.8, (0,255,255), 3)\n",
    "        #cv2.putText(frame, \"1\" , (160,120), cv2.FONT_HERSHEY_SIMPLEX, 0.8, (0,255,255), 3)\n",
    "\n",
    "        picture = frame\n"
   ]
  },
  {
   "cell_type": "markdown",
   "metadata": {},
   "source": [
    "## Test dead zone"
   ]
  },
  {
   "cell_type": "code",
   "execution_count": null,
   "metadata": {},
   "outputs": [],
   "source": [
    "def test():\n",
    "    global color_lower, color_upper, g_mode, first_read, while_cnt\n",
    "    global target_valuex, target_valuey, color_x, target_servox,picture\n",
    "    t_start = time.time()\n",
    "    fps = 0\n",
    "    ret, frame = image.read()\n",
    "    #frame = cv2.resize(frame, (300, 300))\n",
    "    frame = cv2.GaussianBlur(frame,(5,5),0) \n",
    "    first_read = 1\n",
    "    while_cnt = 0\n",
    "    time.sleep(1)\n",
    "    while True:\n",
    "        ret, frame = image.read()  \n",
    "        #frame = cv2.resize(frame, (300, 300))\n",
    "        #frame = cv2.GaussianBlur(frame,(3,3),0)  \n",
    "        hsv = cv2.cvtColor(frame,cv2.COLOR_BGR2HSV)\n",
    "        mask = cv2.inRange(hsv,color_lower,color_upper)   \n",
    "        mask = cv2.erode(mask,None,iterations=2)\n",
    "        mask = cv2.dilate(mask,None,iterations=2)\n",
    "        mask = cv2.GaussianBlur(mask,(5,5),0)\n",
    "        cnts = cv2.findContours(mask.copy(),cv2.RETR_EXTERNAL,cv2.CHAIN_APPROX_SIMPLE)[-2] \n",
    "        if len(cnts) > 0:\n",
    "            cnt = max (cnts, key = cv2.contourArea)\n",
    "            (color_x,color_y),color_radius = cv2.minEnclosingCircle(cnt)\n",
    "\n",
    "            if color_radius > 10:\n",
    "\n",
    "                cv2.circle(frame,(int(color_x),int(color_y)),int(color_radius),(255,0,255),2)  \n",
    "                if math.fabs(150 - color_x) > 10:\n",
    "                    xservo_pid.SystemOutput = color_x\n",
    "                    xservo_pid.SetStepSignal(150)\n",
    "                    xservo_pid.SetInertiaTime(0.01, 0.1)\n",
    "                    target_valuex = int(1500+xservo_pid.SystemOutput)\n",
    "                    target_servox = int((target_valuex-500)/10)\n",
    "                    #print(\"color_x %f\", color_x)                         \n",
    "                    #print(\"target_servox %d\", target_servox)   \n",
    "\n",
    "                    if target_servox > 180:\n",
    "                        target_servox = 180\n",
    "                    if target_servox < 0:\n",
    "                        target_servox = 0\n",
    "                    car.Ctrl_Servo(1,target_servox)\n",
    "                    \n",
    "                if math.fabs(150 - color_y) > 10:  \n",
    "\n",
    "                    yservo_pid.SystemOutput = color_y\n",
    "                    yservo_pid.SetStepSignal(150)\n",
    "                    yservo_pid.SetInertiaTime(0.01, 0.1)\n",
    "                    target_valuey = int(1500-yservo_pid.SystemOutput)\n",
    "                    target_servoy = int((target_valuey-500)/10)                        \n",
    "                    #print(\"target_servoy %d\", target_servoy)  \n",
    "                    if target_servoy > 180:\n",
    "                        target_servoy = 180\n",
    "                    if target_servoy < 0:\n",
    "                        target_servoy = 0\n",
    "                    #print(target_servoy)\n",
    "\n",
    "                    car.Ctrl_Servo(2,target_servoy)\n",
    "\n",
    "\n",
    "        fps = fps + 1\n",
    "        mfps = fps / (time.time() - t_start)\n",
    "        cv2.putText(frame, \"FPS \" + str(int(mfps)), (40,40), cv2.FONT_HERSHEY_SIMPLEX, 0.8, (0,255,255), 3)\n",
    "        #cv2.putText(frame, \"1\" , (160,120), cv2.FONT_HERSHEY_SIMPLEX, 0.8, (0,255,255), 3)\n",
    "\n",
    "        picture = frame\n"
   ]
  },
  {
   "cell_type": "code",
   "execution_count": null,
   "metadata": {},
   "outputs": [],
   "source": [
    "def video():\n",
    "    global picture\n",
    "\n",
    "    image_widget.value = bgr8_to_jpeg(picture)"
   ]
  },
  {
   "cell_type": "markdown",
   "metadata": {},
   "source": [
    "##  Start"
   ]
  },
  {
   "cell_type": "code",
   "execution_count": null,
   "metadata": {},
   "outputs": [],
   "source": [
    "#thread1 = threading.Thread(target=Color_Recongnize)\n",
    "thread1 = threading.Thread(target=test)\n",
    "\n",
    "thread1.setDaemon(True)\n",
    "thread1.start()"
   ]
  },
  {
   "cell_type": "code",
   "execution_count": null,
   "metadata": {},
   "outputs": [],
   "source": [
    "try:\n",
    "    while True:\n",
    "        video()\n",
    "except:\n",
    "    print(\"ending\")"
   ]
  },
  {
   "cell_type": "markdown",
   "metadata": {},
   "source": [
    "##  Close"
   ]
  },
  {
   "cell_type": "code",
   "execution_count": null,
   "metadata": {},
   "outputs": [],
   "source": [
    "stop_thread(thread1)"
   ]
  },
  {
   "cell_type": "code",
   "execution_count": null,
   "metadata": {},
   "outputs": [],
   "source": [
    "image.release()              #After using, we need to release the object, otherwise it will be occupied and cannot be used in the next program."
   ]
  },
  {
   "cell_type": "code",
   "execution_count": null,
   "metadata": {},
   "outputs": [],
   "source": []
  },
  {
   "cell_type": "markdown",
   "metadata": {},
   "source": []
  },
  {
   "cell_type": "code",
   "execution_count": null,
   "metadata": {},
   "outputs": [],
   "source": []
  },
  {
   "cell_type": "code",
   "execution_count": null,
   "metadata": {},
   "outputs": [],
   "source": []
  }
 ],
 "metadata": {
  "kernelspec": {
   "display_name": "Python 3",
   "language": "python",
   "name": "python3"
  },
  "language_info": {
   "codemirror_mode": {
    "name": "ipython",
    "version": 3
   },
   "file_extension": ".py",
   "mimetype": "text/x-python",
   "name": "python",
   "nbconvert_exporter": "python",
   "pygments_lexer": "ipython3",
   "version": "3.7.3"
  }
 },
 "nbformat": 4,
 "nbformat_minor": 4
}
