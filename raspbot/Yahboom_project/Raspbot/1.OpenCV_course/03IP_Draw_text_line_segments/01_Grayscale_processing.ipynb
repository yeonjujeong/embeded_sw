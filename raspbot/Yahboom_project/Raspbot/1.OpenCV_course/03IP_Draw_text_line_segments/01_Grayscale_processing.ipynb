{
 "cells": [
  {
   "cell_type": "markdown",
   "metadata": {},
   "source": [
    "<center><img src=\"../../logo.png\" alt=\"Header\" style=\"width: 800px;\"/></center>"
   ]
  },
  {
   "cell_type": "markdown",
   "metadata": {},
   "source": [
    "@Copyright (C): 2010-2022, Shenzhen Yahboom Tech  \n",
    "@Author: Liusen  \n",
    "@Date: 2020-02-19 09:25:02  \n",
    "@LastEditors: Liusen  \n",
    "@LastEditTime: 2020-02-19 09:25:02   "
   ]
  },
  {
   "cell_type": "code",
   "execution_count": null,
   "metadata": {},
   "outputs": [],
   "source": [
    "# Method 1 imread \n",
    "# Note: Sometimes the picture will display after running the program for the first time, it will display after running the program for the second time\n",
    "\n",
    "import cv2\n",
    "import matplotlib.pyplot as plt\n",
    "\n",
    "img0 = cv2.imread('yahboom.jpg',0)  \n",
    "img1 = cv2.imread('yahboom.jpg',1)\n",
    "# print(img0.shape)\n",
    "# print(img1.shape)\n",
    "# cv2.imshow('src',img0)\n",
    "# cv2.waitKey(0)\n",
    "\n",
    "# Original picture\n",
    "# img_bgr2rgb1 = cv2.cvtColor(img1, cv2.COLOR_BGR2RGB)\n",
    "# plt.imshow(img_bgr2rgb1)\n",
    "\n",
    "# Grayscale picture\n",
    "img_bgr2rgb0 = cv2.cvtColor(img0, cv2.COLOR_BGR2RGB)\n",
    "plt.imshow(img_bgr2rgb0)\n",
    "plt.show()"
   ]
  },
  {
   "cell_type": "code",
   "execution_count": null,
   "metadata": {},
   "outputs": [],
   "source": [
    "# Method 2 cvtColor\n",
    "# Note: Sometimes the picture will display after running the program for the first time, it will display after running the program for the second time\n",
    "import cv2\n",
    "import matplotlib.pyplot as plt\n",
    "\n",
    "img = cv2.imread('yahboom.jpg',1)\n",
    "dst = cv2.cvtColor(img,cv2.COLOR_BGR2GRAY)# Color space conversion 1 data 2 BGR gray\n",
    "#cv2.imshow('dst',dst)\n",
    "#cv2.waitKey(0)\n",
    "\n",
    "# Original picture\n",
    "# img_bgr2rgb1 = cv2.cvtColor(img, cv2.COLOR_BGR2RGB)\n",
    "# plt.imshow(img_bgr2rgb1)\n",
    "\n",
    "# Grayscale picture\n",
    "img_bgr2rgb0 = cv2.cvtColor(dst, cv2.COLOR_BGR2RGB)\n",
    "plt.imshow(img_bgr2rgb0)\n",
    "plt.show()"
   ]
  },
  {
   "cell_type": "code",
   "execution_count": null,
   "metadata": {},
   "outputs": [],
   "source": [
    "\n",
    "# Method 3 Average\n",
    "import cv2\n",
    "import numpy as np\n",
    "import matplotlib.pyplot as plt\n",
    "\n",
    "\n",
    "img = cv2.imread('yahboom.jpg',1)\n",
    "imgInfo = img.shape\n",
    "height = imgInfo[0]\n",
    "width = imgInfo[1]\n",
    "# RGB R=G=B = gray  (R+G+B)/3\n",
    "dst = np.zeros((height,width,3),np.uint8)\n",
    "for i in range(0,height):\n",
    "    for j in range(0,width):\n",
    "        (b,g,r) = img[i,j]\n",
    "        gray = (int(b)+int(g)+int(r))/3\n",
    "        dst[i,j] = np.uint8(gray)\n",
    "#cv2.imshow('dst',dst)\n",
    "#cv2.waitKey(0)\n",
    "\n",
    "# Original picture\n",
    "# img_bgr2rgb1 = cv2.cvtColor(img, cv2.COLOR_BGR2RGB)\n",
    "# plt.imshow(img_bgr2rgb1)\n",
    "\n",
    "# Grayscale picture\n",
    "img_bgr2rgb0 = cv2.cvtColor(dst, cv2.COLOR_BGR2RGB)\n",
    "plt.imshow(img_bgr2rgb0)\n",
    "plt.show()"
   ]
  },
  {
   "cell_type": "code",
   "execution_count": null,
   "metadata": {},
   "outputs": [],
   "source": [
    "# Method 4 Weighted average\n",
    "# gray = r*0.299+g*0.587+b*0.114  \n",
    "\n",
    "import cv2\n",
    "import numpy as np\n",
    "img = cv2.imread('yahboom.jpg',1)\n",
    "imgInfo = img.shape\n",
    "height = imgInfo[0]\n",
    "width = imgInfo[1]\n",
    "dst = np.zeros((height,width,3),np.uint8)\n",
    "for i in range(0,height):\n",
    "    for j in range(0,width):\n",
    "        (b,g,r) = img[i,j]\n",
    "        b = int(b)\n",
    "        g = int(g)\n",
    "        r = int(r)\n",
    "        gray = r*0.299+g*0.587+b*0.114\n",
    "        dst[i,j] = np.uint8(gray)\n",
    "#cv2.imshow('dst',dst)\n",
    "#cv2.waitKey(0)\n",
    "\n",
    "# Original picture\n",
    "# img_bgr2rgb1 = cv2.cvtColor(img, cv2.COLOR_BGR2RGB)\n",
    "# plt.imshow(img_bgr2rgb1)\n",
    "\n",
    "# Grayscale picture\n",
    "img_bgr2rgb0 = cv2.cvtColor(dst, cv2.COLOR_BGR2RGB)\n",
    "plt.imshow(img_bgr2rgb0)\n",
    "plt.show()"
   ]
  },
  {
   "cell_type": "code",
   "execution_count": null,
   "metadata": {},
   "outputs": [],
   "source": []
  }
 ],
 "metadata": {
  "kernelspec": {
   "display_name": "Python 3",
   "language": "python",
   "name": "python3"
  },
  "language_info": {
   "codemirror_mode": {
    "name": "ipython",
    "version": 3
   },
   "file_extension": ".py",
   "mimetype": "text/x-python",
   "name": "python",
   "nbconvert_exporter": "python",
   "pygments_lexer": "ipython3",
   "version": "3.7.3"
  }
 },
 "nbformat": 4,
 "nbformat_minor": 4
}
