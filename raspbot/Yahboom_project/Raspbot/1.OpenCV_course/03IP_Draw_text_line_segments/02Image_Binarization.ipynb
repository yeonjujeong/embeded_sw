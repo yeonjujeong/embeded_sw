{
 "cells": [
  {
   "cell_type": "markdown",
   "metadata": {},
   "source": [
    "<center><img src=\"../../logo.png\" alt=\"Header\" style=\"width: 800px;\"/></center>"
   ]
  },
  {
   "cell_type": "markdown",
   "metadata": {},
   "source": [
    "@Copyright (C): 2010-2022, Shenzhen Yahboom Tech  \n",
    "@Author: Liusen  \n",
    "@Date: 2020-02-19 09:33:00  \n",
    "@LastEditors: Liusen  \n",
    "@LastEditTime: 2020-02-19 09:33:00   "
   ]
  },
  {
   "cell_type": "code",
   "execution_count": null,
   "metadata": {},
   "outputs": [],
   "source": [
    "import cv2\n",
    "import numpy as np\n",
    "import matplotlib.pyplot as plt\n",
    "img = cv2.imread('yahboom.jpg',1)\n",
    "\n",
    "GrayImage = cv2.cvtColor(img, cv2.COLOR_BGR2GRAY)\n",
    "#GrayImage = np.array(dst).reshape(800,800).astype(np.uint8)\n",
    "\n",
    "ret,thresh1=cv2.threshold(GrayImage,10,255,cv2.THRESH_BINARY)  \n",
    "ret,thresh2=cv2.threshold(GrayImage,10,255,cv2.THRESH_BINARY_INV)  \n",
    "ret,thresh3=cv2.threshold(GrayImage,10,255,cv2.THRESH_TRUNC)  \n",
    "ret,thresh4=cv2.threshold(GrayImage,10,255,cv2.THRESH_TOZERO)  \n",
    "ret,thresh5=cv2.threshold(GrayImage,10,255,cv2.THRESH_TOZERO_INV)  \n",
    "titles = ['Gray Image','BINARY','BINARY_INV','TRUNC','TOZERO','TOZERO_INV']  \n",
    "images = [GrayImage, thresh1, thresh2, thresh3, thresh4, thresh5]  \n",
    "for i in range(6):  \n",
    "   plt.subplot(2,3,i+1),plt.imshow(images[i],'gray')  \n",
    "   plt.title(titles[i])  \n",
    "   plt.xticks([]),plt.yticks([])  \n",
    "plt.show() "
   ]
  },
  {
   "cell_type": "code",
   "execution_count": null,
   "metadata": {},
   "outputs": [],
   "source": []
  }
 ],
 "metadata": {
  "kernelspec": {
   "display_name": "Python 3",
   "language": "python",
   "name": "python3"
  },
  "language_info": {
   "codemirror_mode": {
    "name": "ipython",
    "version": 3
   },
   "file_extension": ".py",
   "mimetype": "text/x-python",
   "name": "python",
   "nbconvert_exporter": "python",
   "pygments_lexer": "ipython3",
   "version": "3.7.3"
  }
 },
 "nbformat": 4,
 "nbformat_minor": 4
}
