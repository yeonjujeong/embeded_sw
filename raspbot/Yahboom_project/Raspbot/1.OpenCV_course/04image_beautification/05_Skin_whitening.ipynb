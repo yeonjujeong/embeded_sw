{
 "cells": [
  {
   "cell_type": "markdown",
   "metadata": {},
   "source": [
    "<center><img src=\"../../logo.png\" alt=\"Header\" style=\"width: 800px;\"/></center>"
   ]
  },
  {
   "cell_type": "markdown",
   "metadata": {},
   "source": [
    "@Copyright (C): 2010-2022, Shenzhen Yahboom Tech  \n",
    "@Author: Liusen  \n",
    "@Date: 2020-02-22 14:45:00 \n",
    "@LastEditors: Liusen  \n",
    "@LastEditTime: 2020-02-22 14:45:00 "
   ]
  },
  {
   "cell_type": "code",
   "execution_count": null,
   "metadata": {},
   "outputs": [],
   "source": [
    "#Picture whitening formula：p = P*1.4(a)+ b;\n",
    "import cv2\n",
    "import numpy as np\n",
    "import matplotlib.pyplot as plt\n",
    "\n",
    "img = cv2.imread('yahboom.jpg',1)\n",
    "imgInfo = img.shape\n",
    "height = imgInfo[0]\n",
    "width = imgInfo[1]\n",
    "#cv2.imshow('src',img)\n",
    "dst = np.zeros((height,width,3),np.uint8)\n",
    "for i in range(0,height):\n",
    "    for j in range(0,width):\n",
    "        (b,g,r) = img[i,j]\n",
    "        bb = int(b*1.3) + 10\n",
    "        gg = int(g*1.2) + 15\n",
    "\n",
    "        if bb>255:\n",
    "            bb = 255\n",
    "        if gg>255:\n",
    "            gg = 255\n",
    "\n",
    "        dst[i,j] = (bb,gg,r)\n",
    "# cv2.imshow('dst',dst)\n",
    "# cv2.waitKey(0)\n",
    "img = cv2.cvtColor(img, cv2.COLOR_BGR2RGB)\n",
    "dst = cv2.cvtColor(dst, cv2.COLOR_BGR2RGB)\n",
    "plt.figure(figsize=(14, 6), dpi=100) #Set the size and pixels of the drawing area\n",
    "plt.subplot(121)  #The first in a row and two columns\n",
    "plt.imshow(img)\n",
    "plt.subplot(122)  #The second in a row and two columns\n",
    "plt.imshow(dst)\n",
    "plt.show()"
   ]
  },
  {
   "cell_type": "markdown",
   "metadata": {},
   "source": [
    "# Bilateral filtering "
   ]
  },
  {
   "cell_type": "code",
   "execution_count": null,
   "metadata": {},
   "outputs": [],
   "source": [
    "\n",
    "import cv2\n",
    "import matplotlib.pyplot as plt\n",
    "\n",
    "img = cv2.imread('yahboom.jpg',1)\n",
    "#cv2.imshow('src',img)\n",
    "dst = cv2.bilateralFilter(img,15,35,35)\n",
    "# cv2.imshow('dst',dst)\n",
    "# cv2.waitKey(0)\n",
    "img = cv2.cvtColor(img, cv2.COLOR_BGR2RGB)\n",
    "dst = cv2.cvtColor(dst, cv2.COLOR_BGR2RGB)\n",
    "plt.figure(figsize=(14, 6), dpi=100) #Set the size and pixels of the drawing area\n",
    "plt.subplot(121)  #The first in a row and two columns\n",
    "plt.imshow(img)\n",
    "plt.subplot(122)  #The second in a row and two columns\n",
    "plt.imshow(dst)\n",
    "plt.show()"
   ]
  },
  {
   "cell_type": "code",
   "execution_count": null,
   "metadata": {},
   "outputs": [],
   "source": []
  }
 ],
 "metadata": {
  "kernelspec": {
   "display_name": "Python 3",
   "language": "python",
   "name": "python3"
  },
  "language_info": {
   "codemirror_mode": {
    "name": "ipython",
    "version": 3
   },
   "file_extension": ".py",
   "mimetype": "text/x-python",
   "name": "python",
   "nbconvert_exporter": "python",
   "pygments_lexer": "ipython3",
   "version": "3.7.3"
  }
 },
 "nbformat": 4,
 "nbformat_minor": 4
}
