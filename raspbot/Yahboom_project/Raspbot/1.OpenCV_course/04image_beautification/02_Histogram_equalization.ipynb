{
 "cells": [
  {
   "cell_type": "markdown",
   "metadata": {},
   "source": [
    "<center><img src=\"../../logo.png\" alt=\"Header\" style=\"width: 800px;\"/></center>"
   ]
  },
  {
   "cell_type": "markdown",
   "metadata": {},
   "source": [
    "@Copyright (C): 2010-2022, Shenzhen Yahboom Tech  \n",
    "@Author: Liusen  \n",
    "@Date: 2020-02-19 17:18:00  \n",
    "@LastEditors: Liusen  \n",
    "@LastEditTime: 2020-02-19 17:18:00  "
   ]
  },
  {
   "cell_type": "markdown",
   "metadata": {},
   "source": [
    "# Grayscale histogram equalization"
   ]
  },
  {
   "cell_type": "code",
   "execution_count": null,
   "metadata": {},
   "outputs": [],
   "source": [
    "\n",
    "import cv2\n",
    "import numpy as np\n",
    "import matplotlib.pyplot as plt\n",
    "\n",
    "\n",
    "img = cv2.imread('yahboom.jpg',1)\n",
    "gray = cv2.cvtColor(img,cv2.COLOR_BGR2GRAY)\n",
    "#cv2.imshow('src',gray)\n",
    "dst = cv2.equalizeHist(gray)\n",
    "#cv2.imshow('dst',dst)\n",
    "#cv2.waitKey(0)\n",
    "\n",
    "\n",
    "gray = cv2.cvtColor(gray, cv2.COLOR_BGR2RGB)\n",
    "dst = cv2.cvtColor(dst, cv2.COLOR_BGR2RGB)\n",
    "# plt draw two comparison pictures before and after processing\n",
    "# original picture\n",
    "plt.figure(figsize=(14, 9), dpi=100)# Set the size and pixels of the drawing area\n",
    "plt.subplot(121)  # The first in a row and two columns\n",
    "plt.imshow(gray)\n",
    "\n",
    "# Grayscale histogram equalization\n",
    "plt.subplot(122)  # The second in a row and two columns\n",
    "plt.imshow(dst)\n",
    "\n",
    "plt.show()\n",
    " "
   ]
  },
  {
   "cell_type": "markdown",
   "metadata": {},
   "source": [
    "# Color histogram equalization"
   ]
  },
  {
   "cell_type": "code",
   "execution_count": null,
   "metadata": {},
   "outputs": [],
   "source": [
    "\n",
    "import cv2\n",
    "import numpy as np\n",
    "img = cv2.imread('yahboom.jpg',1)\n",
    "# cv2.imshow('src',img)\n",
    "(b,g,r) = cv2.split(img)#Channel decomposition\n",
    "bH = cv2.equalizeHist(b)\n",
    "gH = cv2.equalizeHist(g)\n",
    "rH = cv2.equalizeHist(r)\n",
    "result = cv2.merge((bH,gH,rH))#Channel synthesis\n",
    "# cv2.imshow('dst',result)\n",
    "# cv2.waitKey(0)\n",
    "\n",
    "img = cv2.cvtColor(img, cv2.COLOR_BGR2RGB)\n",
    "dst = cv2.cvtColor(dst, cv2.COLOR_BGR2RGB)\n",
    "#plt draw two comparison pictures before and after processing\n",
    "plt.figure(figsize=(14, 9), dpi=100)#Set the size and pixels of the drawing area\n",
    "plt.subplot(121)  #The first in a row and two columns\n",
    "plt.imshow(img)\n",
    "plt.subplot(122)  #The second in a row and two columns\n",
    "#Color histogram equalization\n",
    "plt.imshow(dst)\n",
    "plt.show()"
   ]
  },
  {
   "cell_type": "markdown",
   "metadata": {},
   "source": [
    "# YUV histogram equalization"
   ]
  },
  {
   "cell_type": "code",
   "execution_count": null,
   "metadata": {},
   "outputs": [],
   "source": [
    "\n",
    "import cv2\n",
    "import numpy as np\n",
    "img = cv2.imread('yahboom.jpg',1)\n",
    "imgYUV = cv2.cvtColor(img,cv2.COLOR_BGR2YCrCb)\n",
    "# cv2.imshow('src',img)\n",
    "channelYUV = cv2.split(imgYUV)\n",
    "channelYUV[0] = cv2.equalizeHist(channelYUV[0])\n",
    "channels = cv2.merge(channelYUV)\n",
    "result = cv2.cvtColor(channels,cv2.COLOR_YCrCb2BGR)\n",
    "# cv2.imshow('dst',result)\n",
    "# cv2.waitKey(0)\n",
    "\n",
    "\n",
    "imgYUV = cv2.cvtColor(imgYUV, cv2.COLOR_BGR2RGB)\n",
    "result = cv2.cvtColor(result, cv2.COLOR_BGR2RGB)\n",
    "#plt draw two comparison pictures before and after processing\n",
    "plt.figure(figsize=(14, 9), dpi=100)#Set the size and pixels of the drawing area\n",
    "plt.subplot(121)  # The first in a row and two columns\n",
    "plt.imshow(imgYUV)\n",
    "plt.subplot(122)  # The second in a row and two columns\n",
    "#Color histogram equalization\n",
    "plt.imshow(result)\n",
    "plt.show()"
   ]
  },
  {
   "cell_type": "code",
   "execution_count": null,
   "metadata": {},
   "outputs": [],
   "source": []
  }
 ],
 "metadata": {
  "kernelspec": {
   "display_name": "Python 3",
   "language": "python",
   "name": "python3"
  },
  "language_info": {
   "codemirror_mode": {
    "name": "ipython",
    "version": 3
   },
   "file_extension": ".py",
   "mimetype": "text/x-python",
   "name": "python",
   "nbconvert_exporter": "python",
   "pygments_lexer": "ipython3",
   "version": "3.7.3"
  }
 },
 "nbformat": 4,
 "nbformat_minor": 4
}
