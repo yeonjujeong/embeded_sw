{
 "cells": [
  {
   "cell_type": "markdown",
   "metadata": {},
   "source": [
    "<center><img src=\"../../logo.png\" alt=\"Header\" style=\"width: 800px;\"/></center>"
   ]
  },
  {
   "cell_type": "markdown",
   "metadata": {},
   "source": [
    "@Copyright (C): 2010-2022, Shenzhen Yahboom Tech  \n",
    "@Author: Liusen  \n",
    "@Date: 2020-02-18 17:32:02  \n",
    "@LastEditors: Liusen  \n",
    "@LastEditTime: 2020-02-18 17:32:02   "
   ]
  },
  {
   "cell_type": "code",
   "execution_count": null,
   "metadata": {},
   "outputs": [],
   "source": [
    "import cv2\n",
    "import numpy as np\n",
    "import matplotlib.pyplot as plt\n",
    "\n",
    "img = cv2.imread('yahboom.jpg',1)\n",
    "\n",
    "imgInfo = img.shape\n",
    "height = imgInfo[0]\n",
    "width = imgInfo[1]\n",
    "#src 4->dst 4 (Upper left corner, Lower left corner, Upper right corner)\n",
    "matSrc = np.float32([[200,100],[200,400],[600,100],[width-1,height-1]])\n",
    "matDst = np.float32([[200,200],[200,300],[500,200],[500,400]])\n",
    "#Combine\n",
    "matAffine = cv2.getPerspectiveTransform(matSrc,matDst)# mat 1 src 2 dst\n",
    "dst = cv2.warpPerspective(img,matAffine,(width,height))\n",
    "img_bgr2rgb = cv2.cvtColor(dst, cv2.COLOR_BGR2RGB)\n",
    "plt.imshow(img_bgr2rgb)\n",
    "plt.show()"
   ]
  },
  {
   "cell_type": "code",
   "execution_count": null,
   "metadata": {},
   "outputs": [],
   "source": []
  }
 ],
 "metadata": {
  "kernelspec": {
   "display_name": "Python 3",
   "language": "python",
   "name": "python3"
  },
  "language_info": {
   "codemirror_mode": {
    "name": "ipython",
    "version": 3
   },
   "file_extension": ".py",
   "mimetype": "text/x-python",
   "name": "python",
   "nbconvert_exporter": "python",
   "pygments_lexer": "ipython3",
   "version": "3.7.3"
  }
 },
 "nbformat": 4,
 "nbformat_minor": 4
}
