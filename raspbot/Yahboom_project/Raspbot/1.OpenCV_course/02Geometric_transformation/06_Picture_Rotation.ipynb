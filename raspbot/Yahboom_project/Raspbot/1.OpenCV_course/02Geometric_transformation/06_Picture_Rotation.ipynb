{
 "cells": [
  {
   "cell_type": "markdown",
   "metadata": {},
   "source": [
    "<center><img src=\"../../logo.png\" alt=\"Header\" style=\"width: 800px;\"/></center>"
   ]
  },
  {
   "cell_type": "markdown",
   "metadata": {},
   "source": [
    "@Copyright (C): 2010-2022, Shenzhen Yahboom Tech  \n",
    "@Author: Liusen  \n",
    "@Date: 2020-02-18 17:23:02  \n",
    "@LastEditors: Liusen  \n",
    "@LastEditTime: 2020-02-18 17:23:02   "
   ]
  },
  {
   "cell_type": "code",
   "execution_count": null,
   "metadata": {},
   "outputs": [],
   "source": [
    "import cv2\n",
    "import numpy as np\n",
    "img = cv2.imread('yahboom.jpg',1)\n",
    "#cv2.imshow('src',img)\n",
    "imgInfo = img.shape\n",
    "height = imgInfo[0]\n",
    "width = imgInfo[1]\n",
    "# 2*3 \n",
    "# cv2.getRotationMatrix2D(center, angle, scale)  \n",
    "# center: Center of rotation\n",
    "# angle：Rotation angle, positive numbers indicate counterclockwise, negative numbers indicate clockwise\n",
    "# scale：Transformation scale\n",
    "matRotate = cv2.getRotationMatrix2D((height*0.5, width*0.5), 45, 0.5)# mat rotate 1 center 2 angle 3 scale\n",
    "#100*100 25 \n",
    "dst = cv2.warpAffine(img, matRotate, (height,width))\n",
    "#cv2.imshow('dst',dst)\n",
    "#cv2.waitKey(0)"
   ]
  },
  {
   "cell_type": "markdown",
   "metadata": {},
   "source": [
    "# After running the following program, two images will be displayed in the jupyterLab control interface, that is original image and the rotated image."
   ]
  },
  {
   "cell_type": "code",
   "execution_count": null,
   "metadata": {},
   "outputs": [],
   "source": [
    "#bgr8 to jpeg format\n",
    "import enum\n",
    "import cv2\n",
    "\n",
    "def bgr8_to_jpeg(value, quality=75):\n",
    "    return bytes(cv2.imencode('.jpg', value)[1])"
   ]
  },
  {
   "cell_type": "code",
   "execution_count": null,
   "metadata": {},
   "outputs": [],
   "source": [
    "import ipywidgets.widgets as widgets\n",
    "\n",
    "image_widget1 = widgets.Image(format='jpg', )\n",
    "image_widget2 = widgets.Image(format='jpg', )\n",
    "# create a horizontal box container to place the image widget next to eachother\n",
    "image_container = widgets.HBox([image_widget1, image_widget2])\n",
    "\n",
    "# display the container in this cell's output\n",
    "display(image_container)\n",
    "#display(image_widget2)\n",
    "\n",
    "img1 = cv2.imread('yahboom.jpg',1)\n",
    "\n",
    "image_widget1.value = bgr8_to_jpeg(img1)\n",
    "image_widget2.value = bgr8_to_jpeg(dst)"
   ]
  },
  {
   "cell_type": "code",
   "execution_count": null,
   "metadata": {},
   "outputs": [],
   "source": []
  }
 ],
 "metadata": {
  "kernelspec": {
   "display_name": "Python 3",
   "language": "python",
   "name": "python3"
  },
  "language_info": {
   "codemirror_mode": {
    "name": "ipython",
    "version": 3
   },
   "file_extension": ".py",
   "mimetype": "text/x-python",
   "name": "python",
   "nbconvert_exporter": "python",
   "pygments_lexer": "ipython3",
   "version": "3.7.3"
  }
 },
 "nbformat": 4,
 "nbformat_minor": 4
}
